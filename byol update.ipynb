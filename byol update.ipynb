{
 "cells": [
  {
   "cell_type": "code",
   "execution_count": null,
   "metadata": {
    "_cell_guid": "b1076dfc-b9ad-4769-8c92-a6c4dae69d19",
    "_uuid": "8f2839f25d086af736a60e9eeb907d3b93b6e0e5",
    "trusted": true
   },
   "outputs": [],
   "source": [
    "# This Python 3 environment comes with many helpful analytics libraries installed\n",
    "# It is defined by the kaggle/python Docker image: https://github.com/kaggle/docker-python\n",
    "# For example, here's several helpful packages to load\n",
    "\n",
    "import numpy as np # linear algebra\n",
    "import pandas as pd # data processing, CSV file I/O (e.g. pd.read_csv)\n",
    "\n",
    "# Input data files are available in the read-only \"../input/\" directory\n",
    "# For example, running this (by clicking run or pressing Shift+Enter) will list all files under the input directory\n",
    "\n",
    "import os\n",
    "for dirname, _, filenames in os.walk('/kaggle/input'):\n",
    "    for filename in filenames:\n",
    "        print(os.path.join(dirname, filename))\n",
    "\n",
    "# You can write up to 20GB to the current directory (/kaggle/working/) that gets preserved as output when you create a version using \"Save & Run All\" \n",
    "# You can also write temporary files to /kaggle/temp/, but they won't be saved outside of the current session"
   ]
  },
  {
   "cell_type": "code",
   "execution_count": 1,
   "metadata": {
    "execution": {
     "iopub.execute_input": "2025-08-13T14:27:20.257111Z",
     "iopub.status.busy": "2025-08-13T14:27:20.256534Z",
     "iopub.status.idle": "2025-08-13T16:48:02.828767Z",
     "shell.execute_reply": "2025-08-13T16:48:02.827969Z",
     "shell.execute_reply.started": "2025-08-13T14:27:20.257084Z"
    },
    "trusted": true
   },
   "outputs": [
    {
     "name": "stderr",
     "output_type": "stream",
     "text": [
      "/tmp/ipykernel_36/2139249034.py:181: FutureWarning: `torch.cuda.amp.GradScaler(args...)` is deprecated. Please use `torch.amp.GradScaler('cuda', args...)` instead.\n",
      "  scaler = torch.cuda.amp.GradScaler(enabled=torch.cuda.is_available())\n"
     ]
    },
    {
     "data": {
      "application/vnd.jupyter.widget-view+json": {
       "model_id": "f44ee4d2ff35442c98b0b0743a5181e6",
       "version_major": 2,
       "version_minor": 0
      },
      "text/plain": [
       "Epoch 1/50:   0%|          | 0/57 [00:00<?, ?it/s]"
      ]
     },
     "metadata": {},
     "output_type": "display_data"
    },
    {
     "name": "stderr",
     "output_type": "stream",
     "text": [
      "/tmp/ipykernel_36/2139249034.py:205: FutureWarning: `torch.cuda.amp.autocast(args...)` is deprecated. Please use `torch.amp.autocast('cuda', args...)` instead.\n",
      "  with torch.cuda.amp.autocast(enabled=torch.cuda.is_available()):\n"
     ]
    },
    {
     "name": "stdout",
     "output_type": "stream",
     "text": [
      "Epoch 1/50 | avg_loss=3.0879 | time=176.2s\n"
     ]
    },
    {
     "data": {
      "application/vnd.jupyter.widget-view+json": {
       "model_id": "26cb149e0d034a0da6fd924e8a0c3cdf",
       "version_major": 2,
       "version_minor": 0
      },
      "text/plain": [
       "Epoch 2/50:   0%|          | 0/57 [00:00<?, ?it/s]"
      ]
     },
     "metadata": {},
     "output_type": "display_data"
    },
    {
     "name": "stdout",
     "output_type": "stream",
     "text": [
      "Epoch 2/50 | avg_loss=2.0723 | time=168.2s\n"
     ]
    },
    {
     "data": {
      "application/vnd.jupyter.widget-view+json": {
       "model_id": "4397d7993b5a45e99ccd1f0b069464a8",
       "version_major": 2,
       "version_minor": 0
      },
      "text/plain": [
       "Epoch 3/50:   0%|          | 0/57 [00:00<?, ?it/s]"
      ]
     },
     "metadata": {},
     "output_type": "display_data"
    },
    {
     "name": "stdout",
     "output_type": "stream",
     "text": [
      "Epoch 3/50 | avg_loss=1.6604 | time=171.4s\n"
     ]
    },
    {
     "data": {
      "application/vnd.jupyter.widget-view+json": {
       "model_id": "686e4ee6c62c45329bc12d31ecbeb12a",
       "version_major": 2,
       "version_minor": 0
      },
      "text/plain": [
       "Epoch 4/50:   0%|          | 0/57 [00:00<?, ?it/s]"
      ]
     },
     "metadata": {},
     "output_type": "display_data"
    },
    {
     "name": "stdout",
     "output_type": "stream",
     "text": [
      "Epoch 4/50 | avg_loss=1.3975 | time=168.3s\n"
     ]
    },
    {
     "data": {
      "application/vnd.jupyter.widget-view+json": {
       "model_id": "48964b3bd6504a21adda7cefcd7f3488",
       "version_major": 2,
       "version_minor": 0
      },
      "text/plain": [
       "Epoch 5/50:   0%|          | 0/57 [00:00<?, ?it/s]"
      ]
     },
     "metadata": {},
     "output_type": "display_data"
    },
    {
     "name": "stdout",
     "output_type": "stream",
     "text": [
      "Epoch 5/50 | avg_loss=1.2407 | time=167.9s\n"
     ]
    },
    {
     "data": {
      "application/vnd.jupyter.widget-view+json": {
       "model_id": "a2daeda75eda460096ef6149d7573401",
       "version_major": 2,
       "version_minor": 0
      },
      "text/plain": [
       "Epoch 6/50:   0%|          | 0/57 [00:00<?, ?it/s]"
      ]
     },
     "metadata": {},
     "output_type": "display_data"
    },
    {
     "name": "stdout",
     "output_type": "stream",
     "text": [
      "Epoch 6/50 | avg_loss=1.2539 | time=172.1s\n"
     ]
    },
    {
     "data": {
      "application/vnd.jupyter.widget-view+json": {
       "model_id": "35c07c3974c34725a4ce58ed2d2b4c7f",
       "version_major": 2,
       "version_minor": 0
      },
      "text/plain": [
       "Epoch 7/50:   0%|          | 0/57 [00:00<?, ?it/s]"
      ]
     },
     "metadata": {},
     "output_type": "display_data"
    },
    {
     "name": "stdout",
     "output_type": "stream",
     "text": [
      "Epoch 7/50 | avg_loss=1.3892 | time=170.9s\n"
     ]
    },
    {
     "data": {
      "application/vnd.jupyter.widget-view+json": {
       "model_id": "a71c6850ac8646f79df11f3d4c45b214",
       "version_major": 2,
       "version_minor": 0
      },
      "text/plain": [
       "Epoch 8/50:   0%|          | 0/57 [00:00<?, ?it/s]"
      ]
     },
     "metadata": {},
     "output_type": "display_data"
    },
    {
     "name": "stdout",
     "output_type": "stream",
     "text": [
      "Epoch 8/50 | avg_loss=1.5462 | time=168.8s\n"
     ]
    },
    {
     "data": {
      "application/vnd.jupyter.widget-view+json": {
       "model_id": "eed760a314344ba8a2eaae1466803f20",
       "version_major": 2,
       "version_minor": 0
      },
      "text/plain": [
       "Epoch 9/50:   0%|          | 0/57 [00:00<?, ?it/s]"
      ]
     },
     "metadata": {},
     "output_type": "display_data"
    },
    {
     "name": "stdout",
     "output_type": "stream",
     "text": [
      "Epoch 9/50 | avg_loss=1.6841 | time=168.0s\n"
     ]
    },
    {
     "data": {
      "application/vnd.jupyter.widget-view+json": {
       "model_id": "8c5ae8c1636a4ab5bd19f4c53876d639",
       "version_major": 2,
       "version_minor": 0
      },
      "text/plain": [
       "Epoch 10/50:   0%|          | 0/57 [00:00<?, ?it/s]"
      ]
     },
     "metadata": {},
     "output_type": "display_data"
    },
    {
     "name": "stdout",
     "output_type": "stream",
     "text": [
      "Epoch 10/50 | avg_loss=1.8137 | time=170.5s\n"
     ]
    },
    {
     "data": {
      "application/vnd.jupyter.widget-view+json": {
       "model_id": "598d16ea19e34982bd8a668a9451b745",
       "version_major": 2,
       "version_minor": 0
      },
      "text/plain": [
       "Epoch 11/50:   0%|          | 0/57 [00:00<?, ?it/s]"
      ]
     },
     "metadata": {},
     "output_type": "display_data"
    },
    {
     "name": "stdout",
     "output_type": "stream",
     "text": [
      "Epoch 11/50 | avg_loss=1.8477 | time=166.3s\n"
     ]
    },
    {
     "data": {
      "application/vnd.jupyter.widget-view+json": {
       "model_id": "30a31ff9d9e645b68270fcb22cef805f",
       "version_major": 2,
       "version_minor": 0
      },
      "text/plain": [
       "Epoch 12/50:   0%|          | 0/57 [00:00<?, ?it/s]"
      ]
     },
     "metadata": {},
     "output_type": "display_data"
    },
    {
     "name": "stdout",
     "output_type": "stream",
     "text": [
      "Epoch 12/50 | avg_loss=1.7878 | time=165.0s\n"
     ]
    },
    {
     "data": {
      "application/vnd.jupyter.widget-view+json": {
       "model_id": "b6d4908c927b4794ab733c71a6565a93",
       "version_major": 2,
       "version_minor": 0
      },
      "text/plain": [
       "Epoch 13/50:   0%|          | 0/57 [00:00<?, ?it/s]"
      ]
     },
     "metadata": {},
     "output_type": "display_data"
    },
    {
     "name": "stdout",
     "output_type": "stream",
     "text": [
      "Epoch 13/50 | avg_loss=1.8525 | time=168.3s\n"
     ]
    },
    {
     "data": {
      "application/vnd.jupyter.widget-view+json": {
       "model_id": "e86506f0603541c9886a374ef382cfd3",
       "version_major": 2,
       "version_minor": 0
      },
      "text/plain": [
       "Epoch 14/50:   0%|          | 0/57 [00:00<?, ?it/s]"
      ]
     },
     "metadata": {},
     "output_type": "display_data"
    },
    {
     "name": "stdout",
     "output_type": "stream",
     "text": [
      "Epoch 14/50 | avg_loss=1.8498 | time=169.0s\n"
     ]
    },
    {
     "data": {
      "application/vnd.jupyter.widget-view+json": {
       "model_id": "1d906ac2e7ec48cda88c9c827df97ec7",
       "version_major": 2,
       "version_minor": 0
      },
      "text/plain": [
       "Epoch 15/50:   0%|          | 0/57 [00:00<?, ?it/s]"
      ]
     },
     "metadata": {},
     "output_type": "display_data"
    },
    {
     "name": "stdout",
     "output_type": "stream",
     "text": [
      "Epoch 15/50 | avg_loss=1.8354 | time=166.7s\n"
     ]
    },
    {
     "data": {
      "application/vnd.jupyter.widget-view+json": {
       "model_id": "aa7127dfc9634e929a681dbb3ab7410e",
       "version_major": 2,
       "version_minor": 0
      },
      "text/plain": [
       "Epoch 16/50:   0%|          | 0/57 [00:00<?, ?it/s]"
      ]
     },
     "metadata": {},
     "output_type": "display_data"
    },
    {
     "name": "stdout",
     "output_type": "stream",
     "text": [
      "Epoch 16/50 | avg_loss=1.7851 | time=165.1s\n"
     ]
    },
    {
     "data": {
      "application/vnd.jupyter.widget-view+json": {
       "model_id": "1a9ac6ee2ded4d418398c41be7baae02",
       "version_major": 2,
       "version_minor": 0
      },
      "text/plain": [
       "Epoch 17/50:   0%|          | 0/57 [00:00<?, ?it/s]"
      ]
     },
     "metadata": {},
     "output_type": "display_data"
    },
    {
     "name": "stdout",
     "output_type": "stream",
     "text": [
      "Epoch 17/50 | avg_loss=1.7113 | time=169.0s\n"
     ]
    },
    {
     "data": {
      "application/vnd.jupyter.widget-view+json": {
       "model_id": "8272121cbbf349f590a72b11c104b02d",
       "version_major": 2,
       "version_minor": 0
      },
      "text/plain": [
       "Epoch 18/50:   0%|          | 0/57 [00:00<?, ?it/s]"
      ]
     },
     "metadata": {},
     "output_type": "display_data"
    },
    {
     "name": "stdout",
     "output_type": "stream",
     "text": [
      "Epoch 18/50 | avg_loss=1.6903 | time=172.1s\n"
     ]
    },
    {
     "data": {
      "application/vnd.jupyter.widget-view+json": {
       "model_id": "806b8fe9590d498e8b63157f22d26338",
       "version_major": 2,
       "version_minor": 0
      },
      "text/plain": [
       "Epoch 19/50:   0%|          | 0/57 [00:00<?, ?it/s]"
      ]
     },
     "metadata": {},
     "output_type": "display_data"
    },
    {
     "name": "stdout",
     "output_type": "stream",
     "text": [
      "Epoch 19/50 | avg_loss=1.6510 | time=167.7s\n"
     ]
    },
    {
     "data": {
      "application/vnd.jupyter.widget-view+json": {
       "model_id": "d7466a632d174adb89aed9d77ccd50e8",
       "version_major": 2,
       "version_minor": 0
      },
      "text/plain": [
       "Epoch 20/50:   0%|          | 0/57 [00:00<?, ?it/s]"
      ]
     },
     "metadata": {},
     "output_type": "display_data"
    },
    {
     "name": "stdout",
     "output_type": "stream",
     "text": [
      "Epoch 20/50 | avg_loss=1.6495 | time=166.0s\n"
     ]
    },
    {
     "data": {
      "application/vnd.jupyter.widget-view+json": {
       "model_id": "c1cab69d33f04033a82b94b86e5c06fb",
       "version_major": 2,
       "version_minor": 0
      },
      "text/plain": [
       "Epoch 21/50:   0%|          | 0/57 [00:00<?, ?it/s]"
      ]
     },
     "metadata": {},
     "output_type": "display_data"
    },
    {
     "name": "stdout",
     "output_type": "stream",
     "text": [
      "Epoch 21/50 | avg_loss=1.5848 | time=169.4s\n"
     ]
    },
    {
     "data": {
      "application/vnd.jupyter.widget-view+json": {
       "model_id": "424068ffe4384f9ead944cd6f24ebca0",
       "version_major": 2,
       "version_minor": 0
      },
      "text/plain": [
       "Epoch 22/50:   0%|          | 0/57 [00:00<?, ?it/s]"
      ]
     },
     "metadata": {},
     "output_type": "display_data"
    },
    {
     "name": "stdout",
     "output_type": "stream",
     "text": [
      "Epoch 22/50 | avg_loss=1.5926 | time=163.6s\n"
     ]
    },
    {
     "data": {
      "application/vnd.jupyter.widget-view+json": {
       "model_id": "5c9e4247c4ae411ab564e05665caa249",
       "version_major": 2,
       "version_minor": 0
      },
      "text/plain": [
       "Epoch 23/50:   0%|          | 0/57 [00:00<?, ?it/s]"
      ]
     },
     "metadata": {},
     "output_type": "display_data"
    },
    {
     "name": "stdout",
     "output_type": "stream",
     "text": [
      "Epoch 23/50 | avg_loss=1.5083 | time=167.6s\n"
     ]
    },
    {
     "data": {
      "application/vnd.jupyter.widget-view+json": {
       "model_id": "1fee6750ad664f37a69419ae55b54be1",
       "version_major": 2,
       "version_minor": 0
      },
      "text/plain": [
       "Epoch 24/50:   0%|          | 0/57 [00:00<?, ?it/s]"
      ]
     },
     "metadata": {},
     "output_type": "display_data"
    },
    {
     "name": "stdout",
     "output_type": "stream",
     "text": [
      "Epoch 24/50 | avg_loss=1.4312 | time=166.8s\n"
     ]
    },
    {
     "data": {
      "application/vnd.jupyter.widget-view+json": {
       "model_id": "f7c68aef01f740ee9c9622c4615a69b3",
       "version_major": 2,
       "version_minor": 0
      },
      "text/plain": [
       "Epoch 25/50:   0%|          | 0/57 [00:00<?, ?it/s]"
      ]
     },
     "metadata": {},
     "output_type": "display_data"
    },
    {
     "name": "stdout",
     "output_type": "stream",
     "text": [
      "Epoch 25/50 | avg_loss=1.4558 | time=171.6s\n"
     ]
    },
    {
     "data": {
      "application/vnd.jupyter.widget-view+json": {
       "model_id": "4fa302e425914793b37aa09738695a36",
       "version_major": 2,
       "version_minor": 0
      },
      "text/plain": [
       "Epoch 26/50:   0%|          | 0/57 [00:00<?, ?it/s]"
      ]
     },
     "metadata": {},
     "output_type": "display_data"
    },
    {
     "name": "stdout",
     "output_type": "stream",
     "text": [
      "Epoch 26/50 | avg_loss=1.3538 | time=167.8s\n"
     ]
    },
    {
     "data": {
      "application/vnd.jupyter.widget-view+json": {
       "model_id": "eae4e2e618064ef48f15b3c76935c0d8",
       "version_major": 2,
       "version_minor": 0
      },
      "text/plain": [
       "Epoch 27/50:   0%|          | 0/57 [00:00<?, ?it/s]"
      ]
     },
     "metadata": {},
     "output_type": "display_data"
    },
    {
     "name": "stdout",
     "output_type": "stream",
     "text": [
      "Epoch 27/50 | avg_loss=1.3092 | time=171.2s\n"
     ]
    },
    {
     "data": {
      "application/vnd.jupyter.widget-view+json": {
       "model_id": "eb704556c25444968bb182ad41be2db0",
       "version_major": 2,
       "version_minor": 0
      },
      "text/plain": [
       "Epoch 28/50:   0%|          | 0/57 [00:00<?, ?it/s]"
      ]
     },
     "metadata": {},
     "output_type": "display_data"
    },
    {
     "name": "stdout",
     "output_type": "stream",
     "text": [
      "Epoch 28/50 | avg_loss=1.3431 | time=168.7s\n"
     ]
    },
    {
     "data": {
      "application/vnd.jupyter.widget-view+json": {
       "model_id": "e6d7173e7a2e4069bb85f814b966f103",
       "version_major": 2,
       "version_minor": 0
      },
      "text/plain": [
       "Epoch 29/50:   0%|          | 0/57 [00:00<?, ?it/s]"
      ]
     },
     "metadata": {},
     "output_type": "display_data"
    },
    {
     "name": "stdout",
     "output_type": "stream",
     "text": [
      "Epoch 29/50 | avg_loss=1.2698 | time=169.5s\n"
     ]
    },
    {
     "data": {
      "application/vnd.jupyter.widget-view+json": {
       "model_id": "73c578844e78426080603d8277c2bce4",
       "version_major": 2,
       "version_minor": 0
      },
      "text/plain": [
       "Epoch 30/50:   0%|          | 0/57 [00:00<?, ?it/s]"
      ]
     },
     "metadata": {},
     "output_type": "display_data"
    },
    {
     "name": "stdout",
     "output_type": "stream",
     "text": [
      "Epoch 30/50 | avg_loss=1.2850 | time=167.5s\n"
     ]
    },
    {
     "data": {
      "application/vnd.jupyter.widget-view+json": {
       "model_id": "549a63a2cce849f1a2ac209764bb456f",
       "version_major": 2,
       "version_minor": 0
      },
      "text/plain": [
       "Epoch 31/50:   0%|          | 0/57 [00:00<?, ?it/s]"
      ]
     },
     "metadata": {},
     "output_type": "display_data"
    },
    {
     "name": "stdout",
     "output_type": "stream",
     "text": [
      "Epoch 31/50 | avg_loss=1.2718 | time=169.4s\n"
     ]
    },
    {
     "data": {
      "application/vnd.jupyter.widget-view+json": {
       "model_id": "84a9a24893ab420a8a9524f80fda19d3",
       "version_major": 2,
       "version_minor": 0
      },
      "text/plain": [
       "Epoch 32/50:   0%|          | 0/57 [00:00<?, ?it/s]"
      ]
     },
     "metadata": {},
     "output_type": "display_data"
    },
    {
     "name": "stdout",
     "output_type": "stream",
     "text": [
      "Epoch 32/50 | avg_loss=1.1821 | time=172.1s\n"
     ]
    },
    {
     "data": {
      "application/vnd.jupyter.widget-view+json": {
       "model_id": "7a448ccf1a844808b9918cead4015ff0",
       "version_major": 2,
       "version_minor": 0
      },
      "text/plain": [
       "Epoch 33/50:   0%|          | 0/57 [00:00<?, ?it/s]"
      ]
     },
     "metadata": {},
     "output_type": "display_data"
    },
    {
     "name": "stdout",
     "output_type": "stream",
     "text": [
      "Epoch 33/50 | avg_loss=1.2645 | time=169.0s\n"
     ]
    },
    {
     "data": {
      "application/vnd.jupyter.widget-view+json": {
       "model_id": "b21563add7a4487596f8d621b7028b01",
       "version_major": 2,
       "version_minor": 0
      },
      "text/plain": [
       "Epoch 34/50:   0%|          | 0/57 [00:00<?, ?it/s]"
      ]
     },
     "metadata": {},
     "output_type": "display_data"
    },
    {
     "name": "stdout",
     "output_type": "stream",
     "text": [
      "Epoch 34/50 | avg_loss=1.2506 | time=168.5s\n"
     ]
    },
    {
     "data": {
      "application/vnd.jupyter.widget-view+json": {
       "model_id": "14ef32ea782a46a28c8d0690721a728b",
       "version_major": 2,
       "version_minor": 0
      },
      "text/plain": [
       "Epoch 35/50:   0%|          | 0/57 [00:00<?, ?it/s]"
      ]
     },
     "metadata": {},
     "output_type": "display_data"
    },
    {
     "name": "stdout",
     "output_type": "stream",
     "text": [
      "Epoch 35/50 | avg_loss=1.1892 | time=172.3s\n"
     ]
    },
    {
     "data": {
      "application/vnd.jupyter.widget-view+json": {
       "model_id": "ae5180bbd5544e3e8d6d65e1fd67e8fa",
       "version_major": 2,
       "version_minor": 0
      },
      "text/plain": [
       "Epoch 36/50:   0%|          | 0/57 [00:00<?, ?it/s]"
      ]
     },
     "metadata": {},
     "output_type": "display_data"
    },
    {
     "name": "stdout",
     "output_type": "stream",
     "text": [
      "Epoch 36/50 | avg_loss=1.1235 | time=169.4s\n"
     ]
    },
    {
     "data": {
      "application/vnd.jupyter.widget-view+json": {
       "model_id": "722bb888831b49eebfa8a35b498009ce",
       "version_major": 2,
       "version_minor": 0
      },
      "text/plain": [
       "Epoch 37/50:   0%|          | 0/57 [00:00<?, ?it/s]"
      ]
     },
     "metadata": {},
     "output_type": "display_data"
    },
    {
     "name": "stdout",
     "output_type": "stream",
     "text": [
      "Epoch 37/50 | avg_loss=1.1659 | time=173.2s\n"
     ]
    },
    {
     "data": {
      "application/vnd.jupyter.widget-view+json": {
       "model_id": "3a159b3eafbd4b18b5f2c02986ed4759",
       "version_major": 2,
       "version_minor": 0
      },
      "text/plain": [
       "Epoch 38/50:   0%|          | 0/57 [00:00<?, ?it/s]"
      ]
     },
     "metadata": {},
     "output_type": "display_data"
    },
    {
     "name": "stdout",
     "output_type": "stream",
     "text": [
      "Epoch 38/50 | avg_loss=1.2025 | time=167.6s\n"
     ]
    },
    {
     "data": {
      "application/vnd.jupyter.widget-view+json": {
       "model_id": "1b6424cf66544bfabbaf44b0dba383fa",
       "version_major": 2,
       "version_minor": 0
      },
      "text/plain": [
       "Epoch 39/50:   0%|          | 0/57 [00:00<?, ?it/s]"
      ]
     },
     "metadata": {},
     "output_type": "display_data"
    },
    {
     "name": "stdout",
     "output_type": "stream",
     "text": [
      "Epoch 39/50 | avg_loss=1.1141 | time=163.7s\n"
     ]
    },
    {
     "data": {
      "application/vnd.jupyter.widget-view+json": {
       "model_id": "5009caec3d1b4c1ca875915b0057ed33",
       "version_major": 2,
       "version_minor": 0
      },
      "text/plain": [
       "Epoch 40/50:   0%|          | 0/57 [00:00<?, ?it/s]"
      ]
     },
     "metadata": {},
     "output_type": "display_data"
    },
    {
     "name": "stdout",
     "output_type": "stream",
     "text": [
      "Epoch 40/50 | avg_loss=1.1502 | time=168.3s\n"
     ]
    },
    {
     "data": {
      "application/vnd.jupyter.widget-view+json": {
       "model_id": "a7426d579a6a49de8f145b3825ab3c11",
       "version_major": 2,
       "version_minor": 0
      },
      "text/plain": [
       "Epoch 41/50:   0%|          | 0/57 [00:00<?, ?it/s]"
      ]
     },
     "metadata": {},
     "output_type": "display_data"
    },
    {
     "name": "stdout",
     "output_type": "stream",
     "text": [
      "Epoch 41/50 | avg_loss=1.1172 | time=168.2s\n"
     ]
    },
    {
     "data": {
      "application/vnd.jupyter.widget-view+json": {
       "model_id": "15da2ed6bc9b497dae9de68263d03da1",
       "version_major": 2,
       "version_minor": 0
      },
      "text/plain": [
       "Epoch 42/50:   0%|          | 0/57 [00:00<?, ?it/s]"
      ]
     },
     "metadata": {},
     "output_type": "display_data"
    },
    {
     "name": "stdout",
     "output_type": "stream",
     "text": [
      "Epoch 42/50 | avg_loss=1.1501 | time=167.9s\n"
     ]
    },
    {
     "data": {
      "application/vnd.jupyter.widget-view+json": {
       "model_id": "8ec30b0ee66a4980a30872775603c1ab",
       "version_major": 2,
       "version_minor": 0
      },
      "text/plain": [
       "Epoch 43/50:   0%|          | 0/57 [00:00<?, ?it/s]"
      ]
     },
     "metadata": {},
     "output_type": "display_data"
    },
    {
     "name": "stdout",
     "output_type": "stream",
     "text": [
      "Epoch 43/50 | avg_loss=1.1486 | time=164.4s\n"
     ]
    },
    {
     "data": {
      "application/vnd.jupyter.widget-view+json": {
       "model_id": "14b8b55362404f509694b74e2435c097",
       "version_major": 2,
       "version_minor": 0
      },
      "text/plain": [
       "Epoch 44/50:   0%|          | 0/57 [00:00<?, ?it/s]"
      ]
     },
     "metadata": {},
     "output_type": "display_data"
    },
    {
     "name": "stdout",
     "output_type": "stream",
     "text": [
      "Epoch 44/50 | avg_loss=1.1451 | time=169.1s\n"
     ]
    },
    {
     "data": {
      "application/vnd.jupyter.widget-view+json": {
       "model_id": "c95cf475fbf64255987fb96f389989c0",
       "version_major": 2,
       "version_minor": 0
      },
      "text/plain": [
       "Epoch 45/50:   0%|          | 0/57 [00:00<?, ?it/s]"
      ]
     },
     "metadata": {},
     "output_type": "display_data"
    },
    {
     "name": "stdout",
     "output_type": "stream",
     "text": [
      "Epoch 45/50 | avg_loss=1.0503 | time=165.5s\n"
     ]
    },
    {
     "data": {
      "application/vnd.jupyter.widget-view+json": {
       "model_id": "d50fc22e1c1844778f37e0c5ea275cfa",
       "version_major": 2,
       "version_minor": 0
      },
      "text/plain": [
       "Epoch 46/50:   0%|          | 0/57 [00:00<?, ?it/s]"
      ]
     },
     "metadata": {},
     "output_type": "display_data"
    },
    {
     "name": "stdout",
     "output_type": "stream",
     "text": [
      "Epoch 46/50 | avg_loss=1.1167 | time=165.3s\n"
     ]
    },
    {
     "data": {
      "application/vnd.jupyter.widget-view+json": {
       "model_id": "c42baa569b4c41fbadacb1dc579ab99c",
       "version_major": 2,
       "version_minor": 0
      },
      "text/plain": [
       "Epoch 47/50:   0%|          | 0/57 [00:00<?, ?it/s]"
      ]
     },
     "metadata": {},
     "output_type": "display_data"
    },
    {
     "name": "stdout",
     "output_type": "stream",
     "text": [
      "Epoch 47/50 | avg_loss=1.1563 | time=169.9s\n"
     ]
    },
    {
     "data": {
      "application/vnd.jupyter.widget-view+json": {
       "model_id": "91b848b4fc074a9b9777dfafb688d106",
       "version_major": 2,
       "version_minor": 0
      },
      "text/plain": [
       "Epoch 48/50:   0%|          | 0/57 [00:00<?, ?it/s]"
      ]
     },
     "metadata": {},
     "output_type": "display_data"
    },
    {
     "name": "stdout",
     "output_type": "stream",
     "text": [
      "Epoch 48/50 | avg_loss=1.0528 | time=168.2s\n"
     ]
    },
    {
     "data": {
      "application/vnd.jupyter.widget-view+json": {
       "model_id": "16cfd66d834c4d3fbcd812be5f1bf807",
       "version_major": 2,
       "version_minor": 0
      },
      "text/plain": [
       "Epoch 49/50:   0%|          | 0/57 [00:00<?, ?it/s]"
      ]
     },
     "metadata": {},
     "output_type": "display_data"
    },
    {
     "name": "stdout",
     "output_type": "stream",
     "text": [
      "Epoch 49/50 | avg_loss=1.1238 | time=162.4s\n"
     ]
    },
    {
     "data": {
      "application/vnd.jupyter.widget-view+json": {
       "model_id": "5276d0de6ca141c8a8787ddc11fea88c",
       "version_major": 2,
       "version_minor": 0
      },
      "text/plain": [
       "Epoch 50/50:   0%|          | 0/57 [00:00<?, ?it/s]"
      ]
     },
     "metadata": {},
     "output_type": "display_data"
    },
    {
     "name": "stdout",
     "output_type": "stream",
     "text": [
      "Epoch 50/50 | avg_loss=1.1622 | time=167.4s\n",
      "✅ BYOL pretrained encoder saved as 'byol_encoder.pth'\n"
     ]
    }
   ],
   "source": [
    "import os, glob, time, math, random\n",
    "from dataclasses import dataclass\n",
    "from typing import List, Tuple, Optional\n",
    "\n",
    "import torch\n",
    "import torch.nn as nn\n",
    "import torch.nn.functional as F\n",
    "from torch.utils.data import Dataset, DataLoader, Subset\n",
    "from torchvision import models, transforms, datasets\n",
    "from PIL import Image\n",
    "from tqdm.auto import tqdm\n",
    "import matplotlib.pyplot as plt\n",
    "import numpy as np\n",
    "from sklearn.manifold import TSNE\n",
    "\n",
    "# -----------------------\n",
    "# Config\n",
    "# -----------------------\n",
    "@dataclass\n",
    "class CFG:\n",
    "    # Folder with class subfolders\n",
    "    ROOT_TRAIN: str = \"/kaggle/input/datasetleaf77/Niphad Grape Leaf Disease Dataset (NGLD)/Grapes Disease Dataset train\"\n",
    "    IMAGE_EXTS: Tuple[str,...] = (\".jpg\",\".jpeg\",\".png\",\".bmp\",\".tif\",\".tiff\",\".webp\")\n",
    "\n",
    "    img_size: int = 224\n",
    "    batch_size: int = 32\n",
    "    epochs: int = 50\n",
    "\n",
    "    # Kaggle/Colab-friendly dataloader\n",
    "    num_workers: int = 0\n",
    "    pin_memory: bool = False\n",
    "\n",
    "    # Optim / BYOL\n",
    "    lr: float = 3e-4\n",
    "    weight_decay: float = 1e-4\n",
    "    ema_base_m: float = 0.996\n",
    "    proj_dim: int = 256\n",
    "    hidden_dim: int = 4096\n",
    "\n",
    "    seed: int = 42\n",
    "\n",
    "    # t-SNE options\n",
    "    MAX_TSNE_IMAGES: Optional[int] = 1500   # reduce if slow/OOM; set None for all images\n",
    "    TSNE_COLOR_BY_LABELS: bool = True       # color by TRUE labels & save 'byol_tsne_by_label.png'\n",
    "\n",
    "cfg = CFG()\n",
    "device = torch.device(\"cuda\" if torch.cuda.is_available() else \"cpu\")\n",
    "\n",
    "def set_seed(s=42):\n",
    "    random.seed(s); np.random.seed(s)\n",
    "    torch.manual_seed(s); torch.cuda.manual_seed_all(s)\n",
    "    torch.backends.cudnn.benchmark = True\n",
    "set_seed(cfg.seed)\n",
    "\n",
    "# -----------------------\n",
    "# Unlabeled BYOL Dataset\n",
    "# -----------------------\n",
    "class TwoViewTransform:\n",
    "    \"\"\"BYOL-style strong augmentations (two stochastic views).\"\"\"\n",
    "    def __init__(self, size):\n",
    "        self.t = transforms.Compose([\n",
    "            transforms.RandomResizedCrop(size, scale=(0.08, 1.0), ratio=(3/4, 4/3)),\n",
    "            transforms.RandomHorizontalFlip(0.5),\n",
    "            transforms.RandomApply([transforms.ColorJitter(0.4,0.4,0.2,0.1)], p=0.8),\n",
    "            transforms.RandomGrayscale(0.2),\n",
    "            transforms.GaussianBlur(kernel_size=23, sigma=(0.1, 2.0)),\n",
    "            transforms.ToTensor(),\n",
    "            transforms.Normalize([0.485,0.456,0.406],[0.229,0.224,0.225]),\n",
    "        ])\n",
    "    def __call__(self, img):\n",
    "        return self.t(img), self.t(img)\n",
    "\n",
    "class UnlabeledRecursive(Dataset):\n",
    "    \"\"\"Recursively collects image paths; returns two augmented views; NO labels.\"\"\"\n",
    "    def __init__(self, root, size, exts):\n",
    "        self.paths: List[str] = []\n",
    "        for ext in exts:\n",
    "            self.paths.extend(glob.glob(os.path.join(root, \"**\", f\"*{ext}\"), recursive=True))\n",
    "        if len(self.paths) == 0:\n",
    "            raise RuntimeError(f\"No images found under: {root}\")\n",
    "        self.view = TwoViewTransform(size)\n",
    "    def __len__(self): return len(self.paths)\n",
    "    def __getitem__(self, i):\n",
    "        p = self.paths[i]\n",
    "        with Image.open(p) as im:\n",
    "            img = im.convert(\"RGB\")\n",
    "        v1, v2 = self.view(img)\n",
    "        return v1, v2\n",
    "\n",
    "train_ds = UnlabeledRecursive(cfg.ROOT_TRAIN, cfg.img_size, cfg.IMAGE_EXTS)\n",
    "train_loader = DataLoader(\n",
    "    train_ds,\n",
    "    batch_size=cfg.batch_size,\n",
    "    shuffle=True,\n",
    "    num_workers=cfg.num_workers,\n",
    "    pin_memory=cfg.pin_memory,\n",
    "    drop_last=True\n",
    ")\n",
    "\n",
    "# -----------------------\n",
    "# BYOL Model\n",
    "# -----------------------\n",
    "class ProjectionHead(nn.Module):\n",
    "    def __init__(self, in_dim, hidden, out):\n",
    "        super().__init__()\n",
    "        self.net = nn.Sequential(\n",
    "            nn.Linear(in_dim, hidden, bias=False),\n",
    "            nn.BatchNorm1d(hidden),\n",
    "            nn.ReLU(inplace=True),\n",
    "            nn.Linear(hidden, out, bias=False),\n",
    "            nn.BatchNorm1d(out, affine=False)\n",
    "        )\n",
    "    def forward(self, x): return self.net(x)\n",
    "\n",
    "class PredictionHead(nn.Module):\n",
    "    def __init__(self, dim, hidden):\n",
    "        super().__init__()\n",
    "        self.net = nn.Sequential(\n",
    "            nn.Linear(dim, hidden, bias=False),\n",
    "            nn.BatchNorm1d(hidden),\n",
    "            nn.ReLU(inplace=True),\n",
    "            nn.Linear(hidden, dim)\n",
    "        )\n",
    "    def forward(self, x): return self.net(x)\n",
    "\n",
    "def get_backbone():\n",
    "    enc = models.resnet50(weights=None)  # from scratch; swap if desired\n",
    "    feat = enc.fc.in_features\n",
    "    enc.fc = nn.Identity()               # global pool -> 2048-d features\n",
    "    return enc, feat\n",
    "\n",
    "class BYOL(nn.Module):\n",
    "    def __init__(self, proj_dim=256, hidden=4096):\n",
    "        super().__init__()\n",
    "        self.online_enc, feat = get_backbone()\n",
    "        self.online_proj = ProjectionHead(feat, hidden, proj_dim)\n",
    "        self.online_pred = PredictionHead(proj_dim, hidden)\n",
    "\n",
    "        self.target_enc, _ = get_backbone()\n",
    "        self.target_proj = ProjectionHead(feat, hidden, proj_dim)\n",
    "\n",
    "        # init target as EMA copy of online\n",
    "        for t, s in zip(self.target_enc.parameters(), self.online_enc.parameters()):\n",
    "            t.data.copy_(s.data); t.requires_grad = False\n",
    "        for t, s in zip(self.target_proj.parameters(), self.online_proj.parameters()):\n",
    "            t.data.copy_(s.data); t.requires_grad = False\n",
    "\n",
    "    @torch.no_grad()\n",
    "    def update_target(self, m):\n",
    "        for t, s in zip(self.target_enc.parameters(), self.online_enc.parameters()):\n",
    "            t.data.mul_(m).add_(s.data, alpha=1-m)\n",
    "        for t, s in zip(self.target_proj.parameters(), self.online_proj.parameters()):\n",
    "            t.data.mul_(m).add_(s.data, alpha=1-m)\n",
    "\n",
    "    def forward(self, x1, x2, m):\n",
    "        # online\n",
    "        q1 = self.online_pred(self.online_proj(self.online_enc(x1)))\n",
    "        q2 = self.online_pred(self.online_proj(self.online_enc(x2)))\n",
    "        # target (no grad)\n",
    "        with torch.no_grad():\n",
    "            k1 = self.target_proj(self.target_enc(x1))\n",
    "            k2 = self.target_proj(self.target_enc(x2))\n",
    "        # normalize\n",
    "        q1 = F.normalize(q1, dim=-1); q2 = F.normalize(q2, dim=-1)\n",
    "        k1 = F.normalize(k1, dim=-1); k2 = F.normalize(k2, dim=-1)\n",
    "        # BYOL loss\n",
    "        def byol_loss(a, b): return 2 - 2*(a*b).sum(dim=-1).mean()\n",
    "        loss = byol_loss(q1, k2) + byol_loss(q2, k1)\n",
    "        self.update_target(m)\n",
    "        return loss\n",
    "\n",
    "def momentum_schedule(m0, epoch, max_epochs):\n",
    "    return 1 - (1-m0)*(0.5*(1+math.cos(math.pi*epoch/max_epochs)))\n",
    "\n",
    "model = BYOL(cfg.proj_dim, cfg.hidden_dim).to(device)\n",
    "optimizer = torch.optim.AdamW([\n",
    "    {\"params\": model.online_enc.parameters()},\n",
    "    {\"params\": model.online_proj.parameters()},\n",
    "    {\"params\": model.online_pred.parameters()},\n",
    "], lr=cfg.lr, weight_decay=cfg.weight_decay)\n",
    "scaler = torch.cuda.amp.GradScaler(enabled=torch.cuda.is_available())\n",
    "\n",
    "def lr_at(e):\n",
    "    base, final = cfg.lr, cfg.lr*0.01\n",
    "    if cfg.epochs <= 1: return base\n",
    "    t = e/(cfg.epochs-1)\n",
    "    return final + (base-final)*0.5*(1+math.cos(math.pi*t))\n",
    "\n",
    "# -----------------------\n",
    "# Train\n",
    "# -----------------------\n",
    "loss_history = []\n",
    "\n",
    "for epoch in range(cfg.epochs):\n",
    "    for pg in optimizer.param_groups:\n",
    "        pg[\"lr\"] = lr_at(epoch)\n",
    "    m = momentum_schedule(cfg.ema_base_m, epoch, cfg.epochs)\n",
    "\n",
    "    model.train()\n",
    "    running, t0 = 0.0, time.time()\n",
    "    pbar = tqdm(train_loader, total=len(train_loader), desc=f\"Epoch {epoch+1}/{cfg.epochs}\")\n",
    "    for v1, v2 in pbar:\n",
    "        v1 = v1.to(device, non_blocking=False); v2 = v2.to(device, non_blocking=False)\n",
    "        optimizer.zero_grad(set_to_none=True)\n",
    "        with torch.cuda.amp.autocast(enabled=torch.cuda.is_available()):\n",
    "            loss = model(v1, v2, m)\n",
    "        scaler.scale(loss).backward()\n",
    "        scaler.step(optimizer); scaler.update()\n",
    "\n",
    "        running += loss.item()\n",
    "        avg = running / (pbar.n if pbar.n > 0 else 1)\n",
    "        pbar.set_postfix({\"loss\": f\"{avg:.4f}\"})\n",
    "    loss_history.append(avg)\n",
    "    print(f\"Epoch {epoch+1}/{cfg.epochs} | avg_loss={avg:.4f} | time={time.time()-t0:.1f}s\")\n",
    "\n",
    "# Save encoder for downstream tasks\n",
    "torch.save(model.online_enc.state_dict(), \"byol_encoder.pth\")\n",
    "print(\"✅ BYOL pretrained encoder saved as 'byol_encoder.pth'\")\n"
   ]
  },
  {
   "cell_type": "code",
   "execution_count": 2,
   "metadata": {
    "execution": {
     "iopub.execute_input": "2025-08-13T16:48:45.538186Z",
     "iopub.status.busy": "2025-08-13T16:48:45.537779Z",
     "iopub.status.idle": "2025-08-13T16:48:46.164076Z",
     "shell.execute_reply": "2025-08-13T16:48:46.163339Z",
     "shell.execute_reply.started": "2025-08-13T16:48:45.538163Z"
    },
    "trusted": true
   },
   "outputs": [
    {
     "data": {
      "image/png": "[encoded data removed]",
      "text/plain": [
       "<Figure size 600x400 with 1 Axes>"
      ]
     },
     "metadata": {},
     "output_type": "display_data"
    },
    {
     "name": "stdout",
     "output_type": "stream",
     "text": [
      "📈 Loss curve saved as 'byol_loss_curve.png'\n"
     ]
    }
   ],
   "source": [
    "# Plot & save loss curve\n",
    "plt.figure(figsize=(6,4))\n",
    "plt.plot(range(1, len(loss_history)+1), loss_history, marker='o')\n",
    "plt.title(\"BYOL Pretraining Loss Curve (Unlabeled)\")\n",
    "plt.xlabel(\"Epoch\"); plt.ylabel(\"Loss\"); plt.grid(True)\n",
    "plt.tight_layout()\n",
    "plt.savefig(\"byol_loss_curve.png\", dpi=300)\n",
    "plt.show()\n",
    "print(\"📈 Loss curve saved as 'byol_loss_curve.png'\")"
   ]
  },
  {
   "cell_type": "code",
   "execution_count": 3,
   "metadata": {
    "execution": {
     "iopub.execute_input": "2025-08-13T16:48:51.306420Z",
     "iopub.status.busy": "2025-08-13T16:48:51.305860Z",
     "iopub.status.idle": "2025-08-13T16:49:12.703887Z",
     "shell.execute_reply": "2025-08-13T16:49:12.702984Z",
     "shell.execute_reply.started": "2025-08-13T16:48:51.306397Z"
    },
    "trusted": true
   },
   "outputs": [
    {
     "name": "stdout",
     "output_type": "stream",
     "text": [
      "🔍 Running t-SNE on learned embeddings...\n"
     ]
    },
    {
     "data": {
      "application/vnd.jupyter.widget-view+json": {
       "model_id": "caf6f45305144b6492d2be8e33eeb79e",
       "version_major": 2,
       "version_minor": 0
      },
      "text/plain": [
       "Embedding (labeled):   0%|          | 0/47 [00:00<?, ?it/s]"
      ]
     },
     "metadata": {},
     "output_type": "display_data"
    },
    {
     "name": "stdout",
     "output_type": "stream",
     "text": [
      "Embeddings shape: (1500, 2048)\n"
     ]
    },
    {
     "data": {
      "image/png": "[encoded data removed]",
      "text/plain": [
       "<Figure size 800x800 with 1 Axes>"
      ]
     },
     "metadata": {},
     "output_type": "display_data"
    },
    {
     "name": "stdout",
     "output_type": "stream",
     "text": [
      "💾 Saved: byol_tsne.png\n"
     ]
    },
    {
     "data": {
      "image/png": "[encoded data removed]",
      "text/plain": [
       "<Figure size 800x800 with 1 Axes>"
      ]
     },
     "metadata": {},
     "output_type": "display_data"
    },
    {
     "name": "stdout",
     "output_type": "stream",
     "text": [
      "💾 Saved: byol_tsne_by_label.png\n"
     ]
    }
   ],
   "source": [
    "# -----------------------\n",
    "# t-SNE Visualization\n",
    "# -----------------------\n",
    "print(\"🔍 Running t-SNE on learned embeddings...\")\n",
    "\n",
    "base_eval_tfms = transforms.Compose([\n",
    "    transforms.Resize((cfg.img_size, cfg.img_size)),\n",
    "    transforms.ToTensor(),\n",
    "    transforms.Normalize([0.485,0.456,0.406],[0.229,0.224,0.225]),\n",
    "])\n",
    "\n",
    "# If TSNE_COLOR_BY_LABELS=True, use ImageFolder (yields (img, label)); else build unlabeled dataset.\n",
    "if cfg.TSNE_COLOR_BY_LABELS:\n",
    "    full_ds = datasets.ImageFolder(cfg.ROOT_TRAIN, transform=base_eval_tfms)\n",
    "else:\n",
    "    class SingleViewUnlabeled(Dataset):\n",
    "        def __init__(self, root, exts, transform):\n",
    "            self.paths = []\n",
    "            for ext in exts:\n",
    "                self.paths.extend(glob.glob(os.path.join(root, \"**\", f\"*{ext}\"), recursive=True))\n",
    "            if len(self.paths) == 0:\n",
    "                raise RuntimeError(f\"No images found under: {root}\")\n",
    "            self.t = transform\n",
    "        def __len__(self): return len(self.paths)\n",
    "        def __getitem__(self, i):\n",
    "            with Image.open(self.paths[i]) as im:\n",
    "                return self.t(im.convert(\"RGB\"))\n",
    "    full_ds = SingleViewUnlabeled(cfg.ROOT_TRAIN, cfg.IMAGE_EXTS, base_eval_tfms)\n",
    "\n",
    "# Limit for t-SNE to avoid OOM\n",
    "n = len(full_ds)\n",
    "if cfg.MAX_TSNE_IMAGES is not None and n > cfg.MAX_TSNE_IMAGES:\n",
    "    idx = np.random.choice(n, cfg.MAX_TSNE_IMAGES, replace=False)\n",
    "    tsne_ds = Subset(full_ds, idx.tolist())\n",
    "else:\n",
    "    tsne_ds = full_ds\n",
    "\n",
    "tsne_loader = DataLoader(\n",
    "    tsne_ds,\n",
    "    batch_size=cfg.batch_size,\n",
    "    shuffle=False,\n",
    "    num_workers=cfg.num_workers,\n",
    "    pin_memory=cfg.pin_memory\n",
    ")\n",
    "\n",
    "# Extract embeddings (batched)\n",
    "model.online_enc.eval()\n",
    "all_feats = []\n",
    "all_labels = [] if cfg.TSNE_COLOR_BY_LABELS else None\n",
    "\n",
    "with torch.no_grad():\n",
    "    if cfg.TSNE_COLOR_BY_LABELS:\n",
    "        for imgs, labels in tqdm(tsne_loader, desc=\"Embedding (labeled)\"):\n",
    "            feats = model.online_enc(imgs.to(device)).detach().cpu().numpy()\n",
    "            all_feats.append(feats)\n",
    "            all_labels.append(labels.numpy())\n",
    "        labels_np = np.concatenate(all_labels, axis=0) if all_labels is not None else None\n",
    "    else:\n",
    "        for imgs in tqdm(tsne_loader, desc=\"Embedding (unlabeled)\"):\n",
    "            feats = model.online_enc(imgs.to(device)).detach().cpu().numpy()\n",
    "            all_feats.append(feats)\n",
    "        labels_np = None\n",
    "\n",
    "feats = np.concatenate(all_feats, axis=0)\n",
    "print(f\"Embeddings shape: {feats.shape}\")\n",
    "\n",
    "# t-SNE to 2D\n",
    "tsne = TSNE(n_components=2, init='random', perplexity=30, random_state=cfg.seed)\n",
    "feats_2d = tsne.fit_transform(feats)\n",
    "\n",
    "# --- Unlabeled t-SNE plot ---\n",
    "plt.figure(figsize=(8,8))\n",
    "plt.scatter(feats_2d[:,0], feats_2d[:,1], s=5, alpha=0.6, c='gray')\n",
    "plt.title(\"BYOL t-SNE (unlabeled)\")\n",
    "plt.tight_layout()\n",
    "plt.savefig(\"byol_tsne.png\", dpi=300)\n",
    "plt.show()\n",
    "print(\"💾 Saved: byol_tsne.png\")\n",
    "\n",
    "# --- Plot clusters colored by TRUE labels ---\n",
    "if cfg.TSNE_COLOR_BY_LABELS and labels_np is not None:\n",
    "    plt.figure(figsize=(8,8))\n",
    "    sc = plt.scatter(\n",
    "        feats_2d[:, 0], feats_2d[:, 1],\n",
    "        s=6, alpha=0.75, c=labels_np, cmap='tab10'\n",
    "    )\n",
    "\n",
    "    # Build legend using class names from ImageFolder (even when wrapped in Subset)\n",
    "    ds_for_names = getattr(tsne_ds, 'dataset', tsne_ds)\n",
    "    while isinstance(ds_for_names, Subset):\n",
    "        ds_for_names = ds_for_names.dataset\n",
    "    if hasattr(ds_for_names, 'classes'):\n",
    "        class_names = ds_for_names.classes\n",
    "        uniq = np.unique(labels_np)\n",
    "        handles = [plt.Line2D([0],[0], marker='o', linestyle='', markersize=6, label=class_names[i])\n",
    "                   for i in uniq]\n",
    "        plt.legend(handles=handles, title=\"Class\", loc=\"best\")\n",
    "    else:\n",
    "        # Fallback generic legend\n",
    "        legend_handles, legend_labels = sc.legend_elements()\n",
    "        plt.legend(legend_handles, legend_labels, title=\"Class\", loc=\"best\")\n",
    "\n",
    "    plt.title(\"BYOL t-SNE (colored by true labels)\")\n",
    "    plt.tight_layout()\n",
    "    plt.savefig(\"byol_tsne_by_label.png\", dpi=300)\n",
    "    plt.show()\n",
    "    print(\"💾 Saved: byol_tsne_by_label.png\")\n"
   ]
  },
  {
   "cell_type": "code",
   "execution_count": 12,
   "metadata": {
    "execution": {
     "iopub.execute_input": "2025-08-13T17:36:50.180641Z",
     "iopub.status.busy": "2025-08-13T17:36:50.180132Z",
     "iopub.status.idle": "2025-08-13T17:58:46.196754Z",
     "shell.execute_reply": "2025-08-13T17:58:46.196101Z",
     "shell.execute_reply.started": "2025-08-13T17:36:50.180615Z"
    },
    "trusted": true
   },
   "outputs": [
    {
     "name": "stdout",
     "output_type": "stream",
     "text": [
      "Classes: ['Bacterial Leaf Spot', 'Downy Mildew', 'Healthy Leaves', 'Powdery Mildew']\n",
      "Loaded BYOL encoder. Missing keys: [] | Unexpected: []\n"
     ]
    },
    {
     "name": "stderr",
     "output_type": "stream",
     "text": [
      "/tmp/ipykernel_36/3327002228.py:122: FutureWarning: `torch.cuda.amp.GradScaler(args...)` is deprecated. Please use `torch.amp.GradScaler('cuda', args...)` instead.\n",
      "  scaler = torch.cuda.amp.GradScaler(enabled=torch.cuda.is_available())\n"
     ]
    },
    {
     "data": {
      "application/vnd.jupyter.widget-view+json": {
       "model_id": "92ba6dfc65184f07bbe389d476866856",
       "version_major": 2,
       "version_minor": 0
      },
      "text/plain": [
       "Epoch 1/50 (Train):   0%|          | 0/60 [00:00<?, ?it/s]"
      ]
     },
     "metadata": {},
     "output_type": "display_data"
    },
    {
     "name": "stderr",
     "output_type": "stream",
     "text": [
      "/tmp/ipykernel_36/3327002228.py:143: FutureWarning: `torch.cuda.amp.autocast(args...)` is deprecated. Please use `torch.amp.autocast('cuda', args...)` instead.\n",
      "  with torch.cuda.amp.autocast(enabled=torch.cuda.is_available()):\n"
     ]
    },
    {
     "data": {
      "application/vnd.jupyter.widget-view+json": {
       "model_id": "aef67becec954a909bba62d7195a547c",
       "version_major": 2,
       "version_minor": 0
      },
      "text/plain": [
       "Epoch 1/50 (Valid):   0%|          | 0/13 [00:00<?, ?it/s]"
      ]
     },
     "metadata": {},
     "output_type": "display_data"
    },
    {
     "name": "stdout",
     "output_type": "stream",
     "text": [
      "Epoch 1: Train Loss: 1.0835, Train Acc: 0.5739, Val Loss: 1.1723, Val Acc: 0.5379\n"
     ]
    },
    {
     "data": {
      "application/vnd.jupyter.widget-view+json": {
       "model_id": "e8b07e3d362f4f549e3dcb44fc1cdd7c",
       "version_major": 2,
       "version_minor": 0
      },
      "text/plain": [
       "Epoch 2/50 (Train):   0%|          | 0/60 [00:00<?, ?it/s]"
      ]
     },
     "metadata": {},
     "output_type": "display_data"
    },
    {
     "data": {
      "application/vnd.jupyter.widget-view+json": {
       "model_id": "ab77abf864464ec48b0836361396aefe",
       "version_major": 2,
       "version_minor": 0
      },
      "text/plain": [
       "Epoch 2/50 (Valid):   0%|          | 0/13 [00:00<?, ?it/s]"
      ]
     },
     "metadata": {},
     "output_type": "display_data"
    },
    {
     "name": "stdout",
     "output_type": "stream",
     "text": [
      "Epoch 2: Train Loss: 0.7511, Train Acc: 0.7096, Val Loss: 0.4586, Val Acc: 0.8411\n"
     ]
    },
    {
     "data": {
      "application/vnd.jupyter.widget-view+json": {
       "model_id": "5d67fa59b85b4c09bfd8e4759a08a30d",
       "version_major": 2,
       "version_minor": 0
      },
      "text/plain": [
       "Epoch 3/50 (Train):   0%|          | 0/60 [00:00<?, ?it/s]"
      ]
     },
     "metadata": {},
     "output_type": "display_data"
    },
    {
     "data": {
      "application/vnd.jupyter.widget-view+json": {
       "model_id": "995ff2718c5d4f849912bc4109c69b1b",
       "version_major": 2,
       "version_minor": 0
      },
      "text/plain": [
       "Epoch 3/50 (Valid):   0%|          | 0/13 [00:00<?, ?it/s]"
      ]
     },
     "metadata": {},
     "output_type": "display_data"
    },
    {
     "name": "stdout",
     "output_type": "stream",
     "text": [
      "Epoch 3: Train Loss: 0.5431, Train Acc: 0.7956, Val Loss: 0.4226, Val Acc: 0.8191\n"
     ]
    },
    {
     "data": {
      "application/vnd.jupyter.widget-view+json": {
       "model_id": "2960ac4082f94d928d5c4af65ed053e5",
       "version_major": 2,
       "version_minor": 0
      },
      "text/plain": [
       "Epoch 4/50 (Train):   0%|          | 0/60 [00:00<?, ?it/s]"
      ]
     },
     "metadata": {},
     "output_type": "display_data"
    },
    {
     "data": {
      "application/vnd.jupyter.widget-view+json": {
       "model_id": "2aaa1e17bcca41d792681d1297051405",
       "version_major": 2,
       "version_minor": 0
      },
      "text/plain": [
       "Epoch 4/50 (Valid):   0%|          | 0/13 [00:00<?, ?it/s]"
      ]
     },
     "metadata": {},
     "output_type": "display_data"
    },
    {
     "name": "stdout",
     "output_type": "stream",
     "text": [
      "Epoch 4: Train Loss: 0.4264, Train Acc: 0.8527, Val Loss: 0.2520, Val Acc: 0.9364\n"
     ]
    },
    {
     "data": {
      "application/vnd.jupyter.widget-view+json": {
       "model_id": "0d7b40765cde4f6b87d3ee90c07eeb2b",
       "version_major": 2,
       "version_minor": 0
      },
      "text/plain": [
       "Epoch 5/50 (Train):   0%|          | 0/60 [00:00<?, ?it/s]"
      ]
     },
     "metadata": {},
     "output_type": "display_data"
    },
    {
     "data": {
      "application/vnd.jupyter.widget-view+json": {
       "model_id": "f632ac47bae84781bf2f4edc66c45cb4",
       "version_major": 2,
       "version_minor": 0
      },
      "text/plain": [
       "Epoch 5/50 (Valid):   0%|          | 0/13 [00:00<?, ?it/s]"
      ]
     },
     "metadata": {},
     "output_type": "display_data"
    },
    {
     "name": "stdout",
     "output_type": "stream",
     "text": [
      "Epoch 5: Train Loss: 0.3514, Train Acc: 0.8721, Val Loss: 0.4041, Val Acc: 0.8460\n"
     ]
    },
    {
     "data": {
      "application/vnd.jupyter.widget-view+json": {
       "model_id": "90e3e51481bc40998d5df19d55cc5678",
       "version_major": 2,
       "version_minor": 0
      },
      "text/plain": [
       "Epoch 6/50 (Train):   0%|          | 0/60 [00:00<?, ?it/s]"
      ]
     },
     "metadata": {},
     "output_type": "display_data"
    },
    {
     "data": {
      "application/vnd.jupyter.widget-view+json": {
       "model_id": "1267f336e13d48c0a7a6ec60180bf10c",
       "version_major": 2,
       "version_minor": 0
      },
      "text/plain": [
       "Epoch 6/50 (Valid):   0%|          | 0/13 [00:00<?, ?it/s]"
      ]
     },
     "metadata": {},
     "output_type": "display_data"
    },
    {
     "name": "stdout",
     "output_type": "stream",
     "text": [
      "Epoch 6: Train Loss: 0.2831, Train Acc: 0.9004, Val Loss: 0.4287, Val Acc: 0.8557\n"
     ]
    },
    {
     "data": {
      "application/vnd.jupyter.widget-view+json": {
       "model_id": "5db500ca2b1849ea9dba305a0dd8dd7e",
       "version_major": 2,
       "version_minor": 0
      },
      "text/plain": [
       "Epoch 7/50 (Train):   0%|          | 0/60 [00:00<?, ?it/s]"
      ]
     },
     "metadata": {},
     "output_type": "display_data"
    },
    {
     "data": {
      "application/vnd.jupyter.widget-view+json": {
       "model_id": "e8a9bb4f0b104c31b56ad47aac5e4f33",
       "version_major": 2,
       "version_minor": 0
      },
      "text/plain": [
       "Epoch 7/50 (Valid):   0%|          | 0/13 [00:00<?, ?it/s]"
      ]
     },
     "metadata": {},
     "output_type": "display_data"
    },
    {
     "name": "stdout",
     "output_type": "stream",
     "text": [
      "Epoch 7: Train Loss: 0.2650, Train Acc: 0.9078, Val Loss: 0.3651, Val Acc: 0.8484\n"
     ]
    },
    {
     "data": {
      "application/vnd.jupyter.widget-view+json": {
       "model_id": "b38d94a1bc1f4f338503a23abac97b4c",
       "version_major": 2,
       "version_minor": 0
      },
      "text/plain": [
       "Epoch 8/50 (Train):   0%|          | 0/60 [00:00<?, ?it/s]"
      ]
     },
     "metadata": {},
     "output_type": "display_data"
    },
    {
     "data": {
      "application/vnd.jupyter.widget-view+json": {
       "model_id": "7694c281330e4dbfab5f9379a80dc09e",
       "version_major": 2,
       "version_minor": 0
      },
      "text/plain": [
       "Epoch 8/50 (Valid):   0%|          | 0/13 [00:00<?, ?it/s]"
      ]
     },
     "metadata": {},
     "output_type": "display_data"
    },
    {
     "name": "stdout",
     "output_type": "stream",
     "text": [
      "Epoch 8: Train Loss: 0.2555, Train Acc: 0.9161, Val Loss: 0.2029, Val Acc: 0.9340\n"
     ]
    },
    {
     "data": {
      "application/vnd.jupyter.widget-view+json": {
       "model_id": "fe81a40d18d04612b46180b11ab22d1c",
       "version_major": 2,
       "version_minor": 0
      },
      "text/plain": [
       "Epoch 9/50 (Train):   0%|          | 0/60 [00:00<?, ?it/s]"
      ]
     },
     "metadata": {},
     "output_type": "display_data"
    },
    {
     "data": {
      "application/vnd.jupyter.widget-view+json": {
       "model_id": "ece2ab96d2fc41f5b600ec491592216c",
       "version_major": 2,
       "version_minor": 0
      },
      "text/plain": [
       "Epoch 9/50 (Valid):   0%|          | 0/13 [00:00<?, ?it/s]"
      ]
     },
     "metadata": {},
     "output_type": "display_data"
    },
    {
     "name": "stdout",
     "output_type": "stream",
     "text": [
      "Epoch 9: Train Loss: 0.1891, Train Acc: 0.9371, Val Loss: 0.1300, Val Acc: 0.9658\n"
     ]
    },
    {
     "data": {
      "application/vnd.jupyter.widget-view+json": {
       "model_id": "2e068d80412e4f3ba3f7a4222c7bd4f5",
       "version_major": 2,
       "version_minor": 0
      },
      "text/plain": [
       "Epoch 10/50 (Train):   0%|          | 0/60 [00:00<?, ?it/s]"
      ]
     },
     "metadata": {},
     "output_type": "display_data"
    },
    {
     "data": {
      "application/vnd.jupyter.widget-view+json": {
       "model_id": "b674d65877aa4f818ed6fd77952b4ae4",
       "version_major": 2,
       "version_minor": 0
      },
      "text/plain": [
       "Epoch 10/50 (Valid):   0%|          | 0/13 [00:00<?, ?it/s]"
      ]
     },
     "metadata": {},
     "output_type": "display_data"
    },
    {
     "name": "stdout",
     "output_type": "stream",
     "text": [
      "Epoch 10: Train Loss: 0.1695, Train Acc: 0.9366, Val Loss: 0.2190, Val Acc: 0.9193\n"
     ]
    },
    {
     "data": {
      "application/vnd.jupyter.widget-view+json": {
       "model_id": "c63de6701cda40d6ba2fd7743a731b0c",
       "version_major": 2,
       "version_minor": 0
      },
      "text/plain": [
       "Epoch 11/50 (Train):   0%|          | 0/60 [00:00<?, ?it/s]"
      ]
     },
     "metadata": {},
     "output_type": "display_data"
    },
    {
     "data": {
      "application/vnd.jupyter.widget-view+json": {
       "model_id": "c978269df8f54d8ba1a202247c7e6807",
       "version_major": 2,
       "version_minor": 0
      },
      "text/plain": [
       "Epoch 11/50 (Valid):   0%|          | 0/13 [00:00<?, ?it/s]"
      ]
     },
     "metadata": {},
     "output_type": "display_data"
    },
    {
     "name": "stdout",
     "output_type": "stream",
     "text": [
      "Epoch 11: Train Loss: 0.1621, Train Acc: 0.9486, Val Loss: 0.2337, Val Acc: 0.9046\n"
     ]
    },
    {
     "data": {
      "application/vnd.jupyter.widget-view+json": {
       "model_id": "5484b0f87bee4cdaa7057c09afbad27a",
       "version_major": 2,
       "version_minor": 0
      },
      "text/plain": [
       "Epoch 12/50 (Train):   0%|          | 0/60 [00:00<?, ?it/s]"
      ]
     },
     "metadata": {},
     "output_type": "display_data"
    },
    {
     "data": {
      "application/vnd.jupyter.widget-view+json": {
       "model_id": "fcb1035316864599bdb0dd31248208a2",
       "version_major": 2,
       "version_minor": 0
      },
      "text/plain": [
       "Epoch 12/50 (Valid):   0%|          | 0/13 [00:00<?, ?it/s]"
      ]
     },
     "metadata": {},
     "output_type": "display_data"
    },
    {
     "name": "stdout",
     "output_type": "stream",
     "text": [
      "Epoch 12: Train Loss: 0.1474, Train Acc: 0.9507, Val Loss: 0.2441, Val Acc: 0.9095\n"
     ]
    },
    {
     "data": {
      "application/vnd.jupyter.widget-view+json": {
       "model_id": "9c1eca088a48497fa949cc8ac8905256",
       "version_major": 2,
       "version_minor": 0
      },
      "text/plain": [
       "Epoch 13/50 (Train):   0%|          | 0/60 [00:00<?, ?it/s]"
      ]
     },
     "metadata": {},
     "output_type": "display_data"
    },
    {
     "data": {
      "application/vnd.jupyter.widget-view+json": {
       "model_id": "23577dd256ca448ab72fc833bf550493",
       "version_major": 2,
       "version_minor": 0
      },
      "text/plain": [
       "Epoch 13/50 (Valid):   0%|          | 0/13 [00:00<?, ?it/s]"
      ]
     },
     "metadata": {},
     "output_type": "display_data"
    },
    {
     "name": "stdout",
     "output_type": "stream",
     "text": [
      "Epoch 13: Train Loss: 0.1272, Train Acc: 0.9570, Val Loss: 0.1671, Val Acc: 0.9511\n"
     ]
    },
    {
     "data": {
      "application/vnd.jupyter.widget-view+json": {
       "model_id": "31da5a270a684ee68fc7fccff294700b",
       "version_major": 2,
       "version_minor": 0
      },
      "text/plain": [
       "Epoch 14/50 (Train):   0%|          | 0/60 [00:00<?, ?it/s]"
      ]
     },
     "metadata": {},
     "output_type": "display_data"
    },
    {
     "data": {
      "application/vnd.jupyter.widget-view+json": {
       "model_id": "98a5d983edd24f2dab7831b24559d8d3",
       "version_major": 2,
       "version_minor": 0
      },
      "text/plain": [
       "Epoch 14/50 (Valid):   0%|          | 0/13 [00:00<?, ?it/s]"
      ]
     },
     "metadata": {},
     "output_type": "display_data"
    },
    {
     "name": "stdout",
     "output_type": "stream",
     "text": [
      "Epoch 14: Train Loss: 0.1096, Train Acc: 0.9670, Val Loss: 0.1838, Val Acc: 0.9340\n"
     ]
    },
    {
     "data": {
      "application/vnd.jupyter.widget-view+json": {
       "model_id": "4f175c2392714fb48bb4de9c10774d96",
       "version_major": 2,
       "version_minor": 0
      },
      "text/plain": [
       "Epoch 15/50 (Train):   0%|          | 0/60 [00:00<?, ?it/s]"
      ]
     },
     "metadata": {},
     "output_type": "display_data"
    },
    {
     "data": {
      "application/vnd.jupyter.widget-view+json": {
       "model_id": "75a235699f0f42ecb48013513c8475e9",
       "version_major": 2,
       "version_minor": 0
      },
      "text/plain": [
       "Epoch 15/50 (Valid):   0%|          | 0/13 [00:00<?, ?it/s]"
      ]
     },
     "metadata": {},
     "output_type": "display_data"
    },
    {
     "name": "stdout",
     "output_type": "stream",
     "text": [
      "Epoch 15: Train Loss: 0.0994, Train Acc: 0.9670, Val Loss: 0.1930, Val Acc: 0.9291\n"
     ]
    },
    {
     "data": {
      "application/vnd.jupyter.widget-view+json": {
       "model_id": "1e1150e5f5ba45279c4dc7864a98693a",
       "version_major": 2,
       "version_minor": 0
      },
      "text/plain": [
       "Epoch 16/50 (Train):   0%|          | 0/60 [00:00<?, ?it/s]"
      ]
     },
     "metadata": {},
     "output_type": "display_data"
    },
    {
     "data": {
      "application/vnd.jupyter.widget-view+json": {
       "model_id": "12cd7c983d724335bf868e1f124e9587",
       "version_major": 2,
       "version_minor": 0
      },
      "text/plain": [
       "Epoch 16/50 (Valid):   0%|          | 0/13 [00:00<?, ?it/s]"
      ]
     },
     "metadata": {},
     "output_type": "display_data"
    },
    {
     "name": "stdout",
     "output_type": "stream",
     "text": [
      "Epoch 16: Train Loss: 0.1011, Train Acc: 0.9607, Val Loss: 0.2401, Val Acc: 0.9095\n"
     ]
    },
    {
     "data": {
      "application/vnd.jupyter.widget-view+json": {
       "model_id": "d686fd2d3f584335a1f3f264a8b5fa6e",
       "version_major": 2,
       "version_minor": 0
      },
      "text/plain": [
       "Epoch 17/50 (Train):   0%|          | 0/60 [00:00<?, ?it/s]"
      ]
     },
     "metadata": {},
     "output_type": "display_data"
    },
    {
     "data": {
      "application/vnd.jupyter.widget-view+json": {
       "model_id": "6a174ff91c434c7290901c7957daf456",
       "version_major": 2,
       "version_minor": 0
      },
      "text/plain": [
       "Epoch 17/50 (Valid):   0%|          | 0/13 [00:00<?, ?it/s]"
      ]
     },
     "metadata": {},
     "output_type": "display_data"
    },
    {
     "name": "stdout",
     "output_type": "stream",
     "text": [
      "Epoch 17: Train Loss: 0.0779, Train Acc: 0.9748, Val Loss: 0.1565, Val Acc: 0.9364\n"
     ]
    },
    {
     "data": {
      "application/vnd.jupyter.widget-view+json": {
       "model_id": "f49837171cd44d1d915e2bccddd58bcf",
       "version_major": 2,
       "version_minor": 0
      },
      "text/plain": [
       "Epoch 18/50 (Train):   0%|          | 0/60 [00:00<?, ?it/s]"
      ]
     },
     "metadata": {},
     "output_type": "display_data"
    },
    {
     "data": {
      "application/vnd.jupyter.widget-view+json": {
       "model_id": "c31a5f8fe4a4449da2191c49f208ba1f",
       "version_major": 2,
       "version_minor": 0
      },
      "text/plain": [
       "Epoch 18/50 (Valid):   0%|          | 0/13 [00:00<?, ?it/s]"
      ]
     },
     "metadata": {},
     "output_type": "display_data"
    },
    {
     "name": "stdout",
     "output_type": "stream",
     "text": [
      "Epoch 18: Train Loss: 0.0764, Train Acc: 0.9748, Val Loss: 0.1286, Val Acc: 0.9487\n"
     ]
    },
    {
     "data": {
      "application/vnd.jupyter.widget-view+json": {
       "model_id": "27b39e1b4666458e82eace891add6691",
       "version_major": 2,
       "version_minor": 0
      },
      "text/plain": [
       "Epoch 19/50 (Train):   0%|          | 0/60 [00:00<?, ?it/s]"
      ]
     },
     "metadata": {},
     "output_type": "display_data"
    },
    {
     "data": {
      "application/vnd.jupyter.widget-view+json": {
       "model_id": "4250541749d846beac963ac3e8c877fd",
       "version_major": 2,
       "version_minor": 0
      },
      "text/plain": [
       "Epoch 19/50 (Valid):   0%|          | 0/13 [00:00<?, ?it/s]"
      ]
     },
     "metadata": {},
     "output_type": "display_data"
    },
    {
     "name": "stdout",
     "output_type": "stream",
     "text": [
      "Epoch 19: Train Loss: 0.0613, Train Acc: 0.9790, Val Loss: 0.1599, Val Acc: 0.9389\n"
     ]
    },
    {
     "data": {
      "application/vnd.jupyter.widget-view+json": {
       "model_id": "8539637eff4e425c917dd6b025b9cf8e",
       "version_major": 2,
       "version_minor": 0
      },
      "text/plain": [
       "Epoch 20/50 (Train):   0%|          | 0/60 [00:00<?, ?it/s]"
      ]
     },
     "metadata": {},
     "output_type": "display_data"
    },
    {
     "data": {
      "application/vnd.jupyter.widget-view+json": {
       "model_id": "d17c40d2bbfb4d2d94ea151c6a015c5d",
       "version_major": 2,
       "version_minor": 0
      },
      "text/plain": [
       "Epoch 20/50 (Valid):   0%|          | 0/13 [00:00<?, ?it/s]"
      ]
     },
     "metadata": {},
     "output_type": "display_data"
    },
    {
     "name": "stdout",
     "output_type": "stream",
     "text": [
      "Epoch 20: Train Loss: 0.0567, Train Acc: 0.9822, Val Loss: 0.1391, Val Acc: 0.9389\n"
     ]
    },
    {
     "data": {
      "application/vnd.jupyter.widget-view+json": {
       "model_id": "297a418534f6468faade1479229ee835",
       "version_major": 2,
       "version_minor": 0
      },
      "text/plain": [
       "Epoch 21/50 (Train):   0%|          | 0/60 [00:00<?, ?it/s]"
      ]
     },
     "metadata": {},
     "output_type": "display_data"
    },
    {
     "data": {
      "application/vnd.jupyter.widget-view+json": {
       "model_id": "62835c3ff5e14ae3be783f5b1db1c410",
       "version_major": 2,
       "version_minor": 0
      },
      "text/plain": [
       "Epoch 21/50 (Valid):   0%|          | 0/13 [00:00<?, ?it/s]"
      ]
     },
     "metadata": {},
     "output_type": "display_data"
    },
    {
     "name": "stdout",
     "output_type": "stream",
     "text": [
      "Epoch 21: Train Loss: 0.0622, Train Acc: 0.9811, Val Loss: 0.1620, Val Acc: 0.9315\n"
     ]
    },
    {
     "data": {
      "application/vnd.jupyter.widget-view+json": {
       "model_id": "1d646c5b8fca4dafab8f278faebce89e",
       "version_major": 2,
       "version_minor": 0
      },
      "text/plain": [
       "Epoch 22/50 (Train):   0%|          | 0/60 [00:00<?, ?it/s]"
      ]
     },
     "metadata": {},
     "output_type": "display_data"
    },
    {
     "data": {
      "application/vnd.jupyter.widget-view+json": {
       "model_id": "b68f55213758407894016fe3c82c9013",
       "version_major": 2,
       "version_minor": 0
      },
      "text/plain": [
       "Epoch 22/50 (Valid):   0%|          | 0/13 [00:00<?, ?it/s]"
      ]
     },
     "metadata": {},
     "output_type": "display_data"
    },
    {
     "name": "stdout",
     "output_type": "stream",
     "text": [
      "Epoch 22: Train Loss: 0.0530, Train Acc: 0.9811, Val Loss: 0.1652, Val Acc: 0.9462\n"
     ]
    },
    {
     "data": {
      "application/vnd.jupyter.widget-view+json": {
       "model_id": "5d547cade7fd420a9a8f9b01581057ab",
       "version_major": 2,
       "version_minor": 0
      },
      "text/plain": [
       "Epoch 23/50 (Train):   0%|          | 0/60 [00:00<?, ?it/s]"
      ]
     },
     "metadata": {},
     "output_type": "display_data"
    },
    {
     "data": {
      "application/vnd.jupyter.widget-view+json": {
       "model_id": "89e972d9580f493a85caf6c7466cf64b",
       "version_major": 2,
       "version_minor": 0
      },
      "text/plain": [
       "Epoch 23/50 (Valid):   0%|          | 0/13 [00:00<?, ?it/s]"
      ]
     },
     "metadata": {},
     "output_type": "display_data"
    },
    {
     "name": "stdout",
     "output_type": "stream",
     "text": [
      "Epoch 23: Train Loss: 0.0456, Train Acc: 0.9858, Val Loss: 0.1414, Val Acc: 0.9413\n"
     ]
    },
    {
     "data": {
      "application/vnd.jupyter.widget-view+json": {
       "model_id": "178eca82fbf64b1dba1748e513b386cd",
       "version_major": 2,
       "version_minor": 0
      },
      "text/plain": [
       "Epoch 24/50 (Train):   0%|          | 0/60 [00:00<?, ?it/s]"
      ]
     },
     "metadata": {},
     "output_type": "display_data"
    },
    {
     "data": {
      "application/vnd.jupyter.widget-view+json": {
       "model_id": "42f96672faa2431eb643e6af7063edbb",
       "version_major": 2,
       "version_minor": 0
      },
      "text/plain": [
       "Epoch 24/50 (Valid):   0%|          | 0/13 [00:00<?, ?it/s]"
      ]
     },
     "metadata": {},
     "output_type": "display_data"
    },
    {
     "name": "stdout",
     "output_type": "stream",
     "text": [
      "Epoch 24: Train Loss: 0.0504, Train Acc: 0.9811, Val Loss: 0.1535, Val Acc: 0.9413\n"
     ]
    },
    {
     "data": {
      "application/vnd.jupyter.widget-view+json": {
       "model_id": "27c74bab759b4648beb68f98f36fe85a",
       "version_major": 2,
       "version_minor": 0
      },
      "text/plain": [
       "Epoch 25/50 (Train):   0%|          | 0/60 [00:00<?, ?it/s]"
      ]
     },
     "metadata": {},
     "output_type": "display_data"
    },
    {
     "data": {
      "application/vnd.jupyter.widget-view+json": {
       "model_id": "f820c8e0ffbb4a9aa6c417bd8faf08de",
       "version_major": 2,
       "version_minor": 0
      },
      "text/plain": [
       "Epoch 25/50 (Valid):   0%|          | 0/13 [00:00<?, ?it/s]"
      ]
     },
     "metadata": {},
     "output_type": "display_data"
    },
    {
     "name": "stdout",
     "output_type": "stream",
     "text": [
      "Epoch 25: Train Loss: 0.0472, Train Acc: 0.9848, Val Loss: 0.1432, Val Acc: 0.9438\n"
     ]
    },
    {
     "data": {
      "application/vnd.jupyter.widget-view+json": {
       "model_id": "430e34180d8d4f67995892c985880c6c",
       "version_major": 2,
       "version_minor": 0
      },
      "text/plain": [
       "Epoch 26/50 (Train):   0%|          | 0/60 [00:00<?, ?it/s]"
      ]
     },
     "metadata": {},
     "output_type": "display_data"
    },
    {
     "data": {
      "application/vnd.jupyter.widget-view+json": {
       "model_id": "cbcfc0a6a23e4522a1ec4b0d1bcfbd7d",
       "version_major": 2,
       "version_minor": 0
      },
      "text/plain": [
       "Epoch 26/50 (Valid):   0%|          | 0/13 [00:00<?, ?it/s]"
      ]
     },
     "metadata": {},
     "output_type": "display_data"
    },
    {
     "name": "stdout",
     "output_type": "stream",
     "text": [
      "Epoch 26: Train Loss: 0.0516, Train Acc: 0.9843, Val Loss: 0.1623, Val Acc: 0.9364\n"
     ]
    },
    {
     "data": {
      "application/vnd.jupyter.widget-view+json": {
       "model_id": "8c6ca51c703a4783a5a9ba5e56fac5f1",
       "version_major": 2,
       "version_minor": 0
      },
      "text/plain": [
       "Epoch 27/50 (Train):   0%|          | 0/60 [00:00<?, ?it/s]"
      ]
     },
     "metadata": {},
     "output_type": "display_data"
    },
    {
     "data": {
      "application/vnd.jupyter.widget-view+json": {
       "model_id": "99cba85d85184e2c98857be6c2d5562b",
       "version_major": 2,
       "version_minor": 0
      },
      "text/plain": [
       "Epoch 27/50 (Valid):   0%|          | 0/13 [00:00<?, ?it/s]"
      ]
     },
     "metadata": {},
     "output_type": "display_data"
    },
    {
     "name": "stdout",
     "output_type": "stream",
     "text": [
      "Epoch 27: Train Loss: 0.0535, Train Acc: 0.9827, Val Loss: 0.1507, Val Acc: 0.9413\n"
     ]
    },
    {
     "data": {
      "application/vnd.jupyter.widget-view+json": {
       "model_id": "ee3da133e29c40a4bf53390eeeca3407",
       "version_major": 2,
       "version_minor": 0
      },
      "text/plain": [
       "Epoch 28/50 (Train):   0%|          | 0/60 [00:00<?, ?it/s]"
      ]
     },
     "metadata": {},
     "output_type": "display_data"
    },
    {
     "data": {
      "application/vnd.jupyter.widget-view+json": {
       "model_id": "e79c44b5fef646d6bb7bacabd46ce079",
       "version_major": 2,
       "version_minor": 0
      },
      "text/plain": [
       "Epoch 28/50 (Valid):   0%|          | 0/13 [00:00<?, ?it/s]"
      ]
     },
     "metadata": {},
     "output_type": "display_data"
    },
    {
     "name": "stdout",
     "output_type": "stream",
     "text": [
      "Epoch 28: Train Loss: 0.0459, Train Acc: 0.9838, Val Loss: 0.1508, Val Acc: 0.9389\n"
     ]
    },
    {
     "data": {
      "application/vnd.jupyter.widget-view+json": {
       "model_id": "20bd78b40f1049048653c8247fd57133",
       "version_major": 2,
       "version_minor": 0
      },
      "text/plain": [
       "Epoch 29/50 (Train):   0%|          | 0/60 [00:00<?, ?it/s]"
      ]
     },
     "metadata": {},
     "output_type": "display_data"
    },
    {
     "data": {
      "application/vnd.jupyter.widget-view+json": {
       "model_id": "ebc6f77bb0944a4fa0dd5f26ab1449b6",
       "version_major": 2,
       "version_minor": 0
      },
      "text/plain": [
       "Epoch 29/50 (Valid):   0%|          | 0/13 [00:00<?, ?it/s]"
      ]
     },
     "metadata": {},
     "output_type": "display_data"
    },
    {
     "name": "stdout",
     "output_type": "stream",
     "text": [
      "Epoch 29: Train Loss: 0.0467, Train Acc: 0.9838, Val Loss: 0.1528, Val Acc: 0.9389\n"
     ]
    },
    {
     "data": {
      "application/vnd.jupyter.widget-view+json": {
       "model_id": "4a01c313c82b490b9201c5209cecab40",
       "version_major": 2,
       "version_minor": 0
      },
      "text/plain": [
       "Epoch 30/50 (Train):   0%|          | 0/60 [00:00<?, ?it/s]"
      ]
     },
     "metadata": {},
     "output_type": "display_data"
    },
    {
     "data": {
      "application/vnd.jupyter.widget-view+json": {
       "model_id": "200920c74b33412d98be473a23574d35",
       "version_major": 2,
       "version_minor": 0
      },
      "text/plain": [
       "Epoch 30/50 (Valid):   0%|          | 0/13 [00:00<?, ?it/s]"
      ]
     },
     "metadata": {},
     "output_type": "display_data"
    },
    {
     "name": "stdout",
     "output_type": "stream",
     "text": [
      "Epoch 30: Train Loss: 0.0423, Train Acc: 0.9874, Val Loss: 0.1474, Val Acc: 0.9413\n"
     ]
    },
    {
     "data": {
      "application/vnd.jupyter.widget-view+json": {
       "model_id": "e1665033157249a7821ebe09fa423787",
       "version_major": 2,
       "version_minor": 0
      },
      "text/plain": [
       "Epoch 31/50 (Train):   0%|          | 0/60 [00:00<?, ?it/s]"
      ]
     },
     "metadata": {},
     "output_type": "display_data"
    },
    {
     "data": {
      "application/vnd.jupyter.widget-view+json": {
       "model_id": "4e2e943e44ca41e3a742b53d97c3c4eb",
       "version_major": 2,
       "version_minor": 0
      },
      "text/plain": [
       "Epoch 31/50 (Valid):   0%|          | 0/13 [00:00<?, ?it/s]"
      ]
     },
     "metadata": {},
     "output_type": "display_data"
    },
    {
     "name": "stdout",
     "output_type": "stream",
     "text": [
      "Epoch 31: Train Loss: 0.0423, Train Acc: 0.9895, Val Loss: 0.1456, Val Acc: 0.9413\n"
     ]
    },
    {
     "data": {
      "application/vnd.jupyter.widget-view+json": {
       "model_id": "36973c4e25c34b71a427b57bb6b16dd2",
       "version_major": 2,
       "version_minor": 0
      },
      "text/plain": [
       "Epoch 32/50 (Train):   0%|          | 0/60 [00:00<?, ?it/s]"
      ]
     },
     "metadata": {},
     "output_type": "display_data"
    },
    {
     "data": {
      "application/vnd.jupyter.widget-view+json": {
       "model_id": "4ba041357ad740079e9585ff57047aba",
       "version_major": 2,
       "version_minor": 0
      },
      "text/plain": [
       "Epoch 32/50 (Valid):   0%|          | 0/13 [00:00<?, ?it/s]"
      ]
     },
     "metadata": {},
     "output_type": "display_data"
    },
    {
     "name": "stdout",
     "output_type": "stream",
     "text": [
      "Epoch 32: Train Loss: 0.0423, Train Acc: 0.9864, Val Loss: 0.1624, Val Acc: 0.9315\n"
     ]
    },
    {
     "data": {
      "application/vnd.jupyter.widget-view+json": {
       "model_id": "9ced2b8ccfc44c1f9ee3e9c19b635bf7",
       "version_major": 2,
       "version_minor": 0
      },
      "text/plain": [
       "Epoch 33/50 (Train):   0%|          | 0/60 [00:00<?, ?it/s]"
      ]
     },
     "metadata": {},
     "output_type": "display_data"
    },
    {
     "data": {
      "application/vnd.jupyter.widget-view+json": {
       "model_id": "614c66016a984c1cb07bc88c9254811b",
       "version_major": 2,
       "version_minor": 0
      },
      "text/plain": [
       "Epoch 33/50 (Valid):   0%|          | 0/13 [00:00<?, ?it/s]"
      ]
     },
     "metadata": {},
     "output_type": "display_data"
    },
    {
     "name": "stdout",
     "output_type": "stream",
     "text": [
      "Epoch 33: Train Loss: 0.0455, Train Acc: 0.9848, Val Loss: 0.1403, Val Acc: 0.9438\n"
     ]
    },
    {
     "data": {
      "application/vnd.jupyter.widget-view+json": {
       "model_id": "e1ce68463e074699838c8ac4b93fdd1b",
       "version_major": 2,
       "version_minor": 0
      },
      "text/plain": [
       "Epoch 34/50 (Train):   0%|          | 0/60 [00:00<?, ?it/s]"
      ]
     },
     "metadata": {},
     "output_type": "display_data"
    },
    {
     "data": {
      "application/vnd.jupyter.widget-view+json": {
       "model_id": "db22a74ce48b40f38f82b8a7b85802c3",
       "version_major": 2,
       "version_minor": 0
      },
      "text/plain": [
       "Epoch 34/50 (Valid):   0%|          | 0/13 [00:00<?, ?it/s]"
      ]
     },
     "metadata": {},
     "output_type": "display_data"
    },
    {
     "name": "stdout",
     "output_type": "stream",
     "text": [
      "Epoch 34: Train Loss: 0.0497, Train Acc: 0.9801, Val Loss: 0.1752, Val Acc: 0.9315\n"
     ]
    },
    {
     "data": {
      "application/vnd.jupyter.widget-view+json": {
       "model_id": "29063627e620455fab21b22b7b9c3e31",
       "version_major": 2,
       "version_minor": 0
      },
      "text/plain": [
       "Epoch 35/50 (Train):   0%|          | 0/60 [00:00<?, ?it/s]"
      ]
     },
     "metadata": {},
     "output_type": "display_data"
    },
    {
     "data": {
      "application/vnd.jupyter.widget-view+json": {
       "model_id": "019464bea856480997490a067e331007",
       "version_major": 2,
       "version_minor": 0
      },
      "text/plain": [
       "Epoch 35/50 (Valid):   0%|          | 0/13 [00:00<?, ?it/s]"
      ]
     },
     "metadata": {},
     "output_type": "display_data"
    },
    {
     "name": "stdout",
     "output_type": "stream",
     "text": [
      "Epoch 35: Train Loss: 0.0509, Train Acc: 0.9838, Val Loss: 0.1333, Val Acc: 0.9462\n"
     ]
    },
    {
     "data": {
      "application/vnd.jupyter.widget-view+json": {
       "model_id": "0698aa65ac8d4b3d9c0fea876c978a03",
       "version_major": 2,
       "version_minor": 0
      },
      "text/plain": [
       "Epoch 36/50 (Train):   0%|          | 0/60 [00:00<?, ?it/s]"
      ]
     },
     "metadata": {},
     "output_type": "display_data"
    },
    {
     "data": {
      "application/vnd.jupyter.widget-view+json": {
       "model_id": "db71418e54644165a0ccaacb8c136c49",
       "version_major": 2,
       "version_minor": 0
      },
      "text/plain": [
       "Epoch 36/50 (Valid):   0%|          | 0/13 [00:00<?, ?it/s]"
      ]
     },
     "metadata": {},
     "output_type": "display_data"
    },
    {
     "name": "stdout",
     "output_type": "stream",
     "text": [
      "Epoch 36: Train Loss: 0.0449, Train Acc: 0.9848, Val Loss: 0.1526, Val Acc: 0.9389\n"
     ]
    },
    {
     "data": {
      "application/vnd.jupyter.widget-view+json": {
       "model_id": "7a90b32f447a4109ba3a4d6b1fb85bb2",
       "version_major": 2,
       "version_minor": 0
      },
      "text/plain": [
       "Epoch 37/50 (Train):   0%|          | 0/60 [00:00<?, ?it/s]"
      ]
     },
     "metadata": {},
     "output_type": "display_data"
    },
    {
     "data": {
      "application/vnd.jupyter.widget-view+json": {
       "model_id": "0e96d4aace614bc69c405ce505a85a1b",
       "version_major": 2,
       "version_minor": 0
      },
      "text/plain": [
       "Epoch 37/50 (Valid):   0%|          | 0/13 [00:00<?, ?it/s]"
      ]
     },
     "metadata": {},
     "output_type": "display_data"
    },
    {
     "name": "stdout",
     "output_type": "stream",
     "text": [
      "Epoch 37: Train Loss: 0.0439, Train Acc: 0.9869, Val Loss: 0.1490, Val Acc: 0.9413\n"
     ]
    },
    {
     "data": {
      "application/vnd.jupyter.widget-view+json": {
       "model_id": "9db1cf4bb573412cbbd9403809904c94",
       "version_major": 2,
       "version_minor": 0
      },
      "text/plain": [
       "Epoch 38/50 (Train):   0%|          | 0/60 [00:00<?, ?it/s]"
      ]
     },
     "metadata": {},
     "output_type": "display_data"
    },
    {
     "data": {
      "application/vnd.jupyter.widget-view+json": {
       "model_id": "cfeacec0b3b545c487c808705cd16fb4",
       "version_major": 2,
       "version_minor": 0
      },
      "text/plain": [
       "Epoch 38/50 (Valid):   0%|          | 0/13 [00:00<?, ?it/s]"
      ]
     },
     "metadata": {},
     "output_type": "display_data"
    },
    {
     "name": "stdout",
     "output_type": "stream",
     "text": [
      "Epoch 38: Train Loss: 0.0436, Train Acc: 0.9843, Val Loss: 0.1360, Val Acc: 0.9438\n"
     ]
    },
    {
     "data": {
      "application/vnd.jupyter.widget-view+json": {
       "model_id": "f33b39f3067b4288bba22bb092c155c9",
       "version_major": 2,
       "version_minor": 0
      },
      "text/plain": [
       "Epoch 39/50 (Train):   0%|          | 0/60 [00:00<?, ?it/s]"
      ]
     },
     "metadata": {},
     "output_type": "display_data"
    },
    {
     "data": {
      "application/vnd.jupyter.widget-view+json": {
       "model_id": "e73011e237ae47e4bbd494623bbabcd6",
       "version_major": 2,
       "version_minor": 0
      },
      "text/plain": [
       "Epoch 39/50 (Valid):   0%|          | 0/13 [00:00<?, ?it/s]"
      ]
     },
     "metadata": {},
     "output_type": "display_data"
    },
    {
     "name": "stdout",
     "output_type": "stream",
     "text": [
      "Epoch 39: Train Loss: 0.0498, Train Acc: 0.9822, Val Loss: 0.1454, Val Acc: 0.9413\n"
     ]
    },
    {
     "data": {
      "application/vnd.jupyter.widget-view+json": {
       "model_id": "ba74ad8600ff4cce88f2203211b342a8",
       "version_major": 2,
       "version_minor": 0
      },
      "text/plain": [
       "Epoch 40/50 (Train):   0%|          | 0/60 [00:00<?, ?it/s]"
      ]
     },
     "metadata": {},
     "output_type": "display_data"
    },
    {
     "data": {
      "application/vnd.jupyter.widget-view+json": {
       "model_id": "97f17c196d024c1cb209017196e22b9e",
       "version_major": 2,
       "version_minor": 0
      },
      "text/plain": [
       "Epoch 40/50 (Valid):   0%|          | 0/13 [00:00<?, ?it/s]"
      ]
     },
     "metadata": {},
     "output_type": "display_data"
    },
    {
     "name": "stdout",
     "output_type": "stream",
     "text": [
      "Epoch 40: Train Loss: 0.0511, Train Acc: 0.9858, Val Loss: 0.1399, Val Acc: 0.9462\n"
     ]
    },
    {
     "data": {
      "application/vnd.jupyter.widget-view+json": {
       "model_id": "88921b30458f4e17ba4050e6ccbb2315",
       "version_major": 2,
       "version_minor": 0
      },
      "text/plain": [
       "Epoch 41/50 (Train):   0%|          | 0/60 [00:00<?, ?it/s]"
      ]
     },
     "metadata": {},
     "output_type": "display_data"
    },
    {
     "data": {
      "application/vnd.jupyter.widget-view+json": {
       "model_id": "4f66be27af0544e39bfb283f59674514",
       "version_major": 2,
       "version_minor": 0
      },
      "text/plain": [
       "Epoch 41/50 (Valid):   0%|          | 0/13 [00:00<?, ?it/s]"
      ]
     },
     "metadata": {},
     "output_type": "display_data"
    },
    {
     "name": "stdout",
     "output_type": "stream",
     "text": [
      "Epoch 41: Train Loss: 0.0396, Train Acc: 0.9874, Val Loss: 0.1472, Val Acc: 0.9413\n"
     ]
    },
    {
     "data": {
      "application/vnd.jupyter.widget-view+json": {
       "model_id": "df9b9a1104434b19a385e0cf5c32b923",
       "version_major": 2,
       "version_minor": 0
      },
      "text/plain": [
       "Epoch 42/50 (Train):   0%|          | 0/60 [00:00<?, ?it/s]"
      ]
     },
     "metadata": {},
     "output_type": "display_data"
    },
    {
     "data": {
      "application/vnd.jupyter.widget-view+json": {
       "model_id": "4b34653ef7c847be98d65e1a29bbb4cd",
       "version_major": 2,
       "version_minor": 0
      },
      "text/plain": [
       "Epoch 42/50 (Valid):   0%|          | 0/13 [00:00<?, ?it/s]"
      ]
     },
     "metadata": {},
     "output_type": "display_data"
    },
    {
     "name": "stdout",
     "output_type": "stream",
     "text": [
      "Epoch 42: Train Loss: 0.0520, Train Acc: 0.9785, Val Loss: 0.1482, Val Acc: 0.9413\n"
     ]
    },
    {
     "data": {
      "application/vnd.jupyter.widget-view+json": {
       "model_id": "8a3a67c8824041d08ff90b57c8937253",
       "version_major": 2,
       "version_minor": 0
      },
      "text/plain": [
       "Epoch 43/50 (Train):   0%|          | 0/60 [00:00<?, ?it/s]"
      ]
     },
     "metadata": {},
     "output_type": "display_data"
    },
    {
     "data": {
      "application/vnd.jupyter.widget-view+json": {
       "model_id": "2022e07a5ae54ba189539aadec2320ac",
       "version_major": 2,
       "version_minor": 0
      },
      "text/plain": [
       "Epoch 43/50 (Valid):   0%|          | 0/13 [00:00<?, ?it/s]"
      ]
     },
     "metadata": {},
     "output_type": "display_data"
    },
    {
     "name": "stdout",
     "output_type": "stream",
     "text": [
      "Epoch 43: Train Loss: 0.0524, Train Acc: 0.9848, Val Loss: 0.1536, Val Acc: 0.9438\n"
     ]
    },
    {
     "data": {
      "application/vnd.jupyter.widget-view+json": {
       "model_id": "8063823568df45168601fcc5bc863239",
       "version_major": 2,
       "version_minor": 0
      },
      "text/plain": [
       "Epoch 44/50 (Train):   0%|          | 0/60 [00:00<?, ?it/s]"
      ]
     },
     "metadata": {},
     "output_type": "display_data"
    },
    {
     "data": {
      "application/vnd.jupyter.widget-view+json": {
       "model_id": "6d9129ba82aa47e89d0e12afdbc749f8",
       "version_major": 2,
       "version_minor": 0
      },
      "text/plain": [
       "Epoch 44/50 (Valid):   0%|          | 0/13 [00:00<?, ?it/s]"
      ]
     },
     "metadata": {},
     "output_type": "display_data"
    },
    {
     "name": "stdout",
     "output_type": "stream",
     "text": [
      "Epoch 44: Train Loss: 0.0430, Train Acc: 0.9874, Val Loss: 0.1475, Val Acc: 0.9413\n"
     ]
    },
    {
     "data": {
      "application/vnd.jupyter.widget-view+json": {
       "model_id": "c244b571aebd45b8941fb0eb87ef589e",
       "version_major": 2,
       "version_minor": 0
      },
      "text/plain": [
       "Epoch 45/50 (Train):   0%|          | 0/60 [00:00<?, ?it/s]"
      ]
     },
     "metadata": {},
     "output_type": "display_data"
    },
    {
     "data": {
      "application/vnd.jupyter.widget-view+json": {
       "model_id": "9c35e0509d1445bd9291e8ad91f5762c",
       "version_major": 2,
       "version_minor": 0
      },
      "text/plain": [
       "Epoch 45/50 (Valid):   0%|          | 0/13 [00:00<?, ?it/s]"
      ]
     },
     "metadata": {},
     "output_type": "display_data"
    },
    {
     "name": "stdout",
     "output_type": "stream",
     "text": [
      "Epoch 45: Train Loss: 0.0446, Train Acc: 0.9832, Val Loss: 0.1410, Val Acc: 0.9389\n"
     ]
    },
    {
     "data": {
      "application/vnd.jupyter.widget-view+json": {
       "model_id": "7f4234af6f4d4ba4b7f2aa126217dca0",
       "version_major": 2,
       "version_minor": 0
      },
      "text/plain": [
       "Epoch 46/50 (Train):   0%|          | 0/60 [00:00<?, ?it/s]"
      ]
     },
     "metadata": {},
     "output_type": "display_data"
    },
    {
     "data": {
      "application/vnd.jupyter.widget-view+json": {
       "model_id": "02b1c66eb5e64d51b54a6fab9ef0a10e",
       "version_major": 2,
       "version_minor": 0
      },
      "text/plain": [
       "Epoch 46/50 (Valid):   0%|          | 0/13 [00:00<?, ?it/s]"
      ]
     },
     "metadata": {},
     "output_type": "display_data"
    },
    {
     "name": "stdout",
     "output_type": "stream",
     "text": [
      "Epoch 46: Train Loss: 0.0389, Train Acc: 0.9858, Val Loss: 0.1468, Val Acc: 0.9413\n"
     ]
    },
    {
     "data": {
      "application/vnd.jupyter.widget-view+json": {
       "model_id": "4b6030e2c2f14d6cbd81556980be51cd",
       "version_major": 2,
       "version_minor": 0
      },
      "text/plain": [
       "Epoch 47/50 (Train):   0%|          | 0/60 [00:00<?, ?it/s]"
      ]
     },
     "metadata": {},
     "output_type": "display_data"
    },
    {
     "data": {
      "application/vnd.jupyter.widget-view+json": {
       "model_id": "1f98b9a4c09041f096ac2ca0ecd952cd",
       "version_major": 2,
       "version_minor": 0
      },
      "text/plain": [
       "Epoch 47/50 (Valid):   0%|          | 0/13 [00:00<?, ?it/s]"
      ]
     },
     "metadata": {},
     "output_type": "display_data"
    },
    {
     "name": "stdout",
     "output_type": "stream",
     "text": [
      "Epoch 47: Train Loss: 0.0419, Train Acc: 0.9895, Val Loss: 0.1411, Val Acc: 0.9413\n"
     ]
    },
    {
     "data": {
      "application/vnd.jupyter.widget-view+json": {
       "model_id": "a66bb6f4bc73420ca6683a434893a7ff",
       "version_major": 2,
       "version_minor": 0
      },
      "text/plain": [
       "Epoch 48/50 (Train):   0%|          | 0/60 [00:00<?, ?it/s]"
      ]
     },
     "metadata": {},
     "output_type": "display_data"
    },
    {
     "data": {
      "application/vnd.jupyter.widget-view+json": {
       "model_id": "52c4bca54d264248b61dd334dfa64ecb",
       "version_major": 2,
       "version_minor": 0
      },
      "text/plain": [
       "Epoch 48/50 (Valid):   0%|          | 0/13 [00:00<?, ?it/s]"
      ]
     },
     "metadata": {},
     "output_type": "display_data"
    },
    {
     "name": "stdout",
     "output_type": "stream",
     "text": [
      "Epoch 48: Train Loss: 0.0508, Train Acc: 0.9848, Val Loss: 0.1612, Val Acc: 0.9413\n"
     ]
    },
    {
     "data": {
      "application/vnd.jupyter.widget-view+json": {
       "model_id": "0c3c67cf0efb4a82bc11199472967a03",
       "version_major": 2,
       "version_minor": 0
      },
      "text/plain": [
       "Epoch 49/50 (Train):   0%|          | 0/60 [00:00<?, ?it/s]"
      ]
     },
     "metadata": {},
     "output_type": "display_data"
    },
    {
     "data": {
      "application/vnd.jupyter.widget-view+json": {
       "model_id": "7201b3f35c1b4a408a8da22bbffd86f0",
       "version_major": 2,
       "version_minor": 0
      },
      "text/plain": [
       "Epoch 49/50 (Valid):   0%|          | 0/13 [00:00<?, ?it/s]"
      ]
     },
     "metadata": {},
     "output_type": "display_data"
    },
    {
     "name": "stdout",
     "output_type": "stream",
     "text": [
      "Epoch 49: Train Loss: 0.0470, Train Acc: 0.9869, Val Loss: 0.1523, Val Acc: 0.9413\n"
     ]
    },
    {
     "data": {
      "application/vnd.jupyter.widget-view+json": {
       "model_id": "43904d1320ef4562bd8749c1ab06e0bc",
       "version_major": 2,
       "version_minor": 0
      },
      "text/plain": [
       "Epoch 50/50 (Train):   0%|          | 0/60 [00:00<?, ?it/s]"
      ]
     },
     "metadata": {},
     "output_type": "display_data"
    },
    {
     "data": {
      "application/vnd.jupyter.widget-view+json": {
       "model_id": "c3c898eb5dab42f0b1879ec0ca236707",
       "version_major": 2,
       "version_minor": 0
      },
      "text/plain": [
       "Epoch 50/50 (Valid):   0%|          | 0/13 [00:00<?, ?it/s]"
      ]
     },
     "metadata": {},
     "output_type": "display_data"
    },
    {
     "name": "stdout",
     "output_type": "stream",
     "text": [
      "Epoch 50: Train Loss: 0.0356, Train Acc: 0.9895, Val Loss: 0.1513, Val Acc: 0.9389\n",
      "\n",
      "✅ Final Train Accuracy: 98.95%\n",
      "✅ Final Validation Accuracy: 93.89%\n",
      "\n",
      "💾 Fine-tuned model saved as 'finetuned_classifier.pth'\n"
     ]
    }
   ],
   "source": [
    "# ============================\n",
    "# Downstream Fine-tuning (Train + Validation) with tidy epoch printouts\n",
    "# ============================\n",
    "# - Loads BYOL encoder from /kaggle/working/byol_encoder.pth\n",
    "# - Adds linear head, fine-tunes on labeled train/validate\n",
    "# - Shows tqdm bars that reach 100% and prints a clean per-epoch summary\n",
    "# - After 50 epochs, prints FINAL Train & Validation accuracy\n",
    "# - Saves fine-tuned model + Train vs Validation plots\n",
    "\n",
    "import os, time, math, random\n",
    "from dataclasses import dataclass\n",
    "import numpy as np\n",
    "\n",
    "import torch\n",
    "import torch.nn as nn\n",
    "from torch.utils.data import DataLoader\n",
    "from torchvision import models, transforms, datasets\n",
    "from tqdm.auto import tqdm\n",
    "import matplotlib.pyplot as plt\n",
    "\n",
    "# -----------------------\n",
    "# Config\n",
    "# -----------------------\n",
    "@dataclass\n",
    "class CFG:\n",
    "    PATH_TRAIN: str = \"/kaggle/input/datasetleaf77/Niphad Grape Leaf Disease Dataset (NGLD)/Grapes Disease Dataset train\"\n",
    "    PATH_VALID: str = \"/kaggle/input/datasetleaf77/Niphad Grape Leaf Disease Dataset (NGLD)/Grapes Disease Dataset validate\"\n",
    "    ENCODER_PATH: str = \"/kaggle/working/byol_encoder.pth\"  # BYOL-pretrained encoder\n",
    "\n",
    "    img_size: int = 224\n",
    "    batch_size: int = 32\n",
    "    num_workers: int = 0       # keep 0 in notebooks to avoid multiprocessing warnings\n",
    "    pin_memory: bool = False\n",
    "\n",
    "    epochs: int = 50\n",
    "    lr: float = 1e-3\n",
    "    weight_decay: float = 1e-4\n",
    "    warmup_epochs: int = 1\n",
    "    freeze_epochs: int = 1     # freeze encoder for first N epochs, then unfreeze\n",
    "    label_smoothing: float = 0.0\n",
    "    seed: int = 42\n",
    "\n",
    "cfg = CFG()\n",
    "device = torch.device(\"cuda\" if torch.cuda.is_available() else \"cpu\")\n",
    "\n",
    "# -----------------------\n",
    "# Reproducibility\n",
    "# -----------------------\n",
    "def set_seed(seed=42):\n",
    "    random.seed(seed); np.random.seed(seed)\n",
    "    torch.manual_seed(seed); torch.cuda.manual_seed_all(seed)\n",
    "    torch.backends.cudnn.benchmark = True\n",
    "set_seed(cfg.seed)\n",
    "\n",
    "# -----------------------\n",
    "# Data\n",
    "# -----------------------\n",
    "mean = [0.485, 0.456, 0.406]; std = [0.229, 0.224, 0.225]\n",
    "\n",
    "train_tf = transforms.Compose([\n",
    "    transforms.RandomResizedCrop(cfg.img_size, scale=(0.8, 1.0), ratio=(3/4, 4/3)),\n",
    "    transforms.RandomHorizontalFlip(0.5),\n",
    "    transforms.ColorJitter(0.2,0.2,0.1,0.05),\n",
    "    transforms.ToTensor(),\n",
    "    transforms.Normalize(mean, std),\n",
    "])\n",
    "\n",
    "eval_tf = transforms.Compose([\n",
    "    transforms.Resize(256),\n",
    "    transforms.CenterCrop(cfg.img_size),\n",
    "    transforms.ToTensor(),\n",
    "    transforms.Normalize(mean, std),\n",
    "])\n",
    "\n",
    "train_ds = datasets.ImageFolder(cfg.PATH_TRAIN, transform=train_tf)\n",
    "valid_ds = datasets.ImageFolder(cfg.PATH_VALID, transform=eval_tf)\n",
    "\n",
    "num_classes = len(train_ds.classes)\n",
    "print(\"Classes:\", train_ds.classes)\n",
    "\n",
    "train_loader = DataLoader(train_ds, batch_size=cfg.batch_size, shuffle=True,\n",
    "                          num_workers=cfg.num_workers, pin_memory=cfg.pin_memory)\n",
    "valid_loader = DataLoader(valid_ds, batch_size=cfg.batch_size, shuffle=False,\n",
    "                          num_workers=cfg.num_workers, pin_memory=cfg.pin_memory)\n",
    "\n",
    "# -----------------------\n",
    "# Model: load BYOL encoder, attach linear head\n",
    "# -----------------------\n",
    "def build_resnet50_encoder():\n",
    "    enc = models.resnet50(weights=None)\n",
    "    feat_dim = enc.fc.in_features  # 2048\n",
    "    enc.fc = nn.Identity()\n",
    "    return enc, feat_dim\n",
    "\n",
    "encoder, feat_dim = build_resnet50_encoder()\n",
    "state = torch.load(cfg.ENCODER_PATH, map_location=\"cpu\")\n",
    "missing, unexpected = encoder.load_state_dict(state, strict=False)\n",
    "print(\"Loaded BYOL encoder. Missing keys:\", missing, \"| Unexpected:\", unexpected)\n",
    "\n",
    "class Classifier(nn.Module):\n",
    "    def __init__(self, encoder, feat_dim, n_classes):\n",
    "        super().__init__()\n",
    "        self.encoder = encoder\n",
    "        self.head = nn.Linear(feat_dim, n_classes)\n",
    "    def forward(self, x):\n",
    "        feats = self.encoder(x)\n",
    "        return self.head(feats)\n",
    "\n",
    "model = Classifier(encoder, feat_dim, num_classes).to(device)\n",
    "\n",
    "# Freeze encoder initially (head warmup)\n",
    "def set_encoder_trainable(m, on: bool):\n",
    "    for p in m.parameters(): p.requires_grad = on\n",
    "set_encoder_trainable(model.encoder, False)\n",
    "\n",
    "def make_optimizer(lr):\n",
    "    params = [p for p in model.parameters() if p.requires_grad]\n",
    "    return torch.optim.AdamW(params, lr=lr, weight_decay=cfg.weight_decay)\n",
    "\n",
    "optimizer = make_optimizer(cfg.lr)\n",
    "criterion = nn.CrossEntropyLoss(label_smoothing=cfg.label_smoothing).to(device)\n",
    "scaler = torch.cuda.amp.GradScaler(enabled=torch.cuda.is_available())\n",
    "\n",
    "def lr_at(epoch, max_epochs, base_lr, warmup_epochs=0, final_scale=0.05):\n",
    "    if epoch < warmup_epochs:\n",
    "        return base_lr * (epoch + 1) / max(1, warmup_epochs)\n",
    "    t = (epoch - warmup_epochs) / max(1, max_epochs - warmup_epochs - 1)\n",
    "    return base_lr * (final_scale + 0.5 * (1 - final_scale) * (1 + math.cos(math.pi * t)))\n",
    "\n",
    "# -----------------------\n",
    "# Tidy, fixed-length tqdm bars\n",
    "# -----------------------\n",
    "BAR_FMT = \"{l_bar}{bar}| {n_fmt}/{total_fmt} [{elapsed}<{remaining}, {rate_fmt}]\"\n",
    "\n",
    "def run_epoch(loader, train: bool, desc: str):\n",
    "    model.train() if train else model.eval()\n",
    "    total_loss, total_correct, total = 0.0, 0, 0\n",
    "    pbar = tqdm(total=len(loader), desc=desc, leave=True, miniters=1, dynamic_ncols=True, bar_format=BAR_FMT)\n",
    "    with torch.set_grad_enabled(train):\n",
    "        for x, y in loader:\n",
    "            x, y = x.to(device), y.to(device)\n",
    "            if train: optimizer.zero_grad(set_to_none=True)\n",
    "            with torch.cuda.amp.autocast(enabled=torch.cuda.is_available()):\n",
    "                logits = model(x)\n",
    "                loss = criterion(logits, y)\n",
    "            if train:\n",
    "                scaler.scale(loss).backward()\n",
    "                scaler.step(optimizer); scaler.update()\n",
    "            total_loss += loss.item() * x.size(0)\n",
    "            preds = logits.argmax(dim=1)\n",
    "            total_correct += (preds == y).sum().item()\n",
    "            total += x.size(0)\n",
    "            pbar.set_postfix(loss=f\"{(total_loss/total):.4f}\", acc=f\"{(total_correct/total)*100:.2f}%\")\n",
    "            pbar.update(1)\n",
    "    pbar.close()\n",
    "    return total_loss/total, total_correct/total  # avg loss, accuracy\n",
    "\n",
    "# -----------------------\n",
    "# Training loop (50 epochs)\n",
    "# -----------------------\n",
    "train_losses, valid_losses = [], []\n",
    "train_accs, valid_accs = [], []\n",
    "\n",
    "for epoch in range(cfg.epochs):\n",
    "    # Unfreeze encoder after warmup\n",
    "    if epoch == cfg.freeze_epochs:\n",
    "        set_encoder_trainable(model.encoder, True)\n",
    "        optimizer = make_optimizer(cfg.lr * 0.3)  # smaller LR after unfreeze\n",
    "\n",
    "    # Update LR\n",
    "    lr_now = lr_at(epoch, cfg.epochs, optimizer.param_groups[0][\"lr\"], warmup_epochs=cfg.warmup_epochs)\n",
    "    for pg in optimizer.param_groups: pg[\"lr\"] = lr_now\n",
    "\n",
    "    # Bars + epoch summary\n",
    "    tr_loss, tr_acc = run_epoch(train_loader, train=True,  desc=f\"Epoch {epoch+1}/{cfg.epochs} (Train)\")\n",
    "    va_loss, va_acc = run_epoch(valid_loader, train=False, desc=f\"Epoch {epoch+1}/{cfg.epochs} (Valid)\")\n",
    "\n",
    "    train_losses.append(tr_loss); valid_losses.append(va_loss)\n",
    "    train_accs.append(tr_acc);    valid_accs.append(va_acc)\n",
    "\n",
    "    # Clean epoch summary line (matches your example style)\n",
    "    print(f\"Epoch {epoch+1}: Train Loss: {tr_loss:.4f}, Train Acc: {tr_acc:.4f}, \"\n",
    "          f\"Val Loss: {va_loss:.4f}, Val Acc: {va_acc:.4f}\")\n",
    "\n",
    "# -----------------------\n",
    "# Final accuracies\n",
    "# -----------------------\n",
    "final_train_acc = train_accs[-1] * 100.0\n",
    "final_val_acc   = valid_accs[-1] * 100.0\n",
    "print(f\"\\n✅ Final Train Accuracy: {final_train_acc:.2f}%\")\n",
    "print(f\"✅ Final Validation Accuracy: {final_val_acc:.2f}%\\n\")\n",
    "\n",
    "# -----------------------\n",
    "# Save fine-tuned model\n",
    "# -----------------------\n",
    "torch.save(model.state_dict(), \"finetuned_classifier.pth\")\n",
    "print(\"💾 Fine-tuned model saved as 'finetuned_classifier.pth'\")\n",
    "\n",
    "\n"
   ]
  },
  {
   "cell_type": "code",
   "execution_count": 13,
   "metadata": {
    "execution": {
     "iopub.execute_input": "2025-08-13T17:58:52.923737Z",
     "iopub.status.busy": "2025-08-13T17:58:52.923060Z",
     "iopub.status.idle": "2025-08-13T17:58:53.732762Z",
     "shell.execute_reply": "2025-08-13T17:58:53.732033Z",
     "shell.execute_reply.started": "2025-08-13T17:58:52.923711Z"
    },
    "trusted": true
   },
   "outputs": [
    {
     "data": {
      "image/png": "[encoded data removed]",
      "text/plain": [
       "<Figure size 600x400 with 1 Axes>"
      ]
     },
     "metadata": {},
     "output_type": "display_data"
    },
    {
     "data": {
      "image/png": "[encoded data removed]",
      "text/plain": [
       "<Figure size 600x400 with 1 Axes>"
      ]
     },
     "metadata": {},
     "output_type": "display_data"
    }
   ],
   "source": [
    "# -----------------------\n",
    "# Plots: Train vs Validation\n",
    "# -----------------------\n",
    "plt.figure(figsize=(6,4))\n",
    "plt.plot(range(1, cfg.epochs+1), train_losses, marker='o', label='Train Loss')\n",
    "plt.plot(range(1, cfg.epochs+1), valid_losses, marker='o', label='Validation Loss')\n",
    "plt.xlabel(\"Epoch\"); plt.ylabel(\"Loss\"); plt.title(\"Training vs Validation Loss\")\n",
    "plt.grid(True); plt.legend(); plt.tight_layout()\n",
    "plt.savefig(\"train_val_loss.png\", dpi=300); plt.show()\n",
    "\n",
    "plt.figure(figsize=(6,4))\n",
    "plt.plot(range(1, cfg.epochs+1), [a*100 for a in train_accs], marker='o', label='Train Acc (%)')\n",
    "plt.plot(range(1, cfg.epochs+1), [a*100 for a in valid_accs], marker='o', label='Validation Acc (%)')\n",
    "plt.xlabel(\"Epoch\"); plt.ylabel(\"Accuracy (%)\"); plt.title(\"Training vs Validation Accuracy\")\n",
    "plt.grid(True); plt.legend(); plt.tight_layout()\n",
    "plt.savefig(\"train_val_acc.png\", dpi=300); plt.show()"
   ]
  },
  {
   "cell_type": "code",
   "execution_count": 14,
   "metadata": {
    "execution": {
     "iopub.execute_input": "2025-08-13T17:59:19.545903Z",
     "iopub.status.busy": "2025-08-13T17:59:19.545509Z",
     "iopub.status.idle": "2025-08-13T17:59:27.169669Z",
     "shell.execute_reply": "2025-08-13T17:59:27.168849Z",
     "shell.execute_reply.started": "2025-08-13T17:59:19.545874Z"
    },
    "trusted": true
   },
   "outputs": [
    {
     "name": "stdout",
     "output_type": "stream",
     "text": [
      "Classes: ['Bacterial Leaf Spot', 'Downy Mildew', 'Healthy Leaves', 'Powdery Mildew']\n",
      "Loaded fine-tuned model. Missing keys: [] | Unexpected: []\n",
      "\n",
      "✅ Test Accuracy: 91.44%\n",
      "⏱️ Testing time: 6.2 seconds\n"
     ]
    }
   ],
   "source": [
    "# ========= 2.4 Downstream Fine-tuning — LAST PART: TEST EVALUATION =========\n",
    "# Uses fine-tuned model weights: /kaggle/working/finetuned_classifier.pth\n",
    "\n",
    "import os, time, itertools, math, random\n",
    "import numpy as np\n",
    "import torch\n",
    "import torch.nn as nn\n",
    "from torch.utils.data import DataLoader\n",
    "from torchvision import models, datasets, transforms\n",
    "import matplotlib.pyplot as plt\n",
    "\n",
    "from sklearn.metrics import (classification_report, confusion_matrix, roc_curve, auc,\n",
    "                             precision_recall_fscore_support, accuracy_score)\n",
    "from sklearn.preprocessing import label_binarize\n",
    "\n",
    "# -----------------------\n",
    "# Paths & config\n",
    "# -----------------------\n",
    "FINETUNED_PATH = \"/kaggle/working/finetuned_classifier.pth\"\n",
    "PATH_TEST = \"/kaggle/input/datasetleaf77/Niphad Grape Leaf Disease Dataset (NGLD)/Grapes Disease Dataset test\"\n",
    "IMG_SIZE = 224\n",
    "BATCH_SIZE = 32\n",
    "NUM_WORKERS = 0\n",
    "PIN_MEMORY = False\n",
    "SEED = 42\n",
    "\n",
    "device = torch.device(\"cuda\" if torch.cuda.is_available() else \"cpu\")\n",
    "random.seed(SEED); np.random.seed(SEED); torch.manual_seed(SEED); torch.cuda.manual_seed_all(SEED)\n",
    "\n",
    "# -----------------------\n",
    "# Data (test only)\n",
    "# -----------------------\n",
    "mean = [0.485, 0.456, 0.406]; std = [0.229, 0.224, 0.225]\n",
    "eval_tf = transforms.Compose([\n",
    "    transforms.Resize(256),\n",
    "    transforms.CenterCrop(IMG_SIZE),\n",
    "    transforms.ToTensor(),\n",
    "    transforms.Normalize(mean, std),\n",
    "])\n",
    "\n",
    "test_ds = datasets.ImageFolder(PATH_TEST, transform=eval_tf)\n",
    "test_loader = DataLoader(test_ds, batch_size=BATCH_SIZE, shuffle=False,\n",
    "                         num_workers=NUM_WORKERS, pin_memory=PIN_MEMORY)\n",
    "class_names = test_ds.classes\n",
    "num_classes = len(class_names)\n",
    "print(\"Classes:\", class_names)\n",
    "\n",
    "# -----------------------\n",
    "# Rebuild model exactly like fine-tuning: encoder + linear head\n",
    "# -----------------------\n",
    "def build_resnet50_encoder():\n",
    "    enc = models.resnet50(weights=None)\n",
    "    feat_dim = enc.fc.in_features  # 2048\n",
    "    enc.fc = nn.Identity()\n",
    "    return enc, feat_dim\n",
    "\n",
    "class Classifier(nn.Module):\n",
    "    def __init__(self, encoder, feat_dim, n_classes):\n",
    "        super().__init__()\n",
    "        self.encoder = encoder\n",
    "        self.head = nn.Linear(feat_dim, n_classes)\n",
    "    def forward(self, x):\n",
    "        feats = self.encoder(x)\n",
    "        return self.head(feats)\n",
    "\n",
    "encoder, feat_dim = build_resnet50_encoder()\n",
    "model = Classifier(encoder, feat_dim, num_classes).to(device)\n",
    "\n",
    "# Load fine-tuned weights\n",
    "state = torch.load(FINETUNED_PATH, map_location=\"cpu\")\n",
    "missing, unexpected = model.load_state_dict(state, strict=False)\n",
    "print(\"Loaded fine-tuned model. Missing keys:\", missing, \"| Unexpected:\", unexpected)\n",
    "\n",
    "# -----------------------\n",
    "# Helper: collect logits/targets\n",
    "# -----------------------\n",
    "@torch.no_grad()\n",
    "def collect_logits_targets(loader):\n",
    "    model.eval()\n",
    "    all_logits, all_targets = [], []\n",
    "    for x, y in loader:\n",
    "        x = x.to(device)\n",
    "        logits = model(x)\n",
    "        all_logits.append(logits.detach().cpu())\n",
    "        all_targets.append(y)\n",
    "    return torch.cat(all_logits), torch.cat(all_targets)\n",
    "\n",
    "# -----------------------\n",
    "# TEST EVALUATION + timing\n",
    "# -----------------------\n",
    "t_test_start = time.time()\n",
    "test_logits, test_targets = collect_logits_targets(test_loader)\n",
    "t_test_end = time.time()\n",
    "test_time_sec = t_test_end - t_test_start\n",
    "\n",
    "test_probs = torch.softmax(test_logits, dim=1).numpy()\n",
    "test_preds = test_logits.argmax(dim=1).numpy()\n",
    "test_targets_np = test_targets.numpy()\n",
    "\n",
    "# Overall Test Accuracy\n",
    "test_acc = accuracy_score(test_targets_np, test_preds)\n",
    "print(f\"\\n✅ Test Accuracy: {test_acc*100:.2f}%\")\n",
    "print(f\"⏱️ Testing time: {test_time_sec:.1f} seconds\")\n",
    "\n",
    "\n"
   ]
  },
  {
   "cell_type": "code",
   "execution_count": 15,
   "metadata": {
    "execution": {
     "iopub.execute_input": "2025-08-13T17:59:40.971136Z",
     "iopub.status.busy": "2025-08-13T17:59:40.970633Z",
     "iopub.status.idle": "2025-08-13T17:59:41.576078Z",
     "shell.execute_reply": "2025-08-13T17:59:41.575337Z",
     "shell.execute_reply.started": "2025-08-13T17:59:40.971113Z"
    },
    "trusted": true
   },
   "outputs": [
    {
     "name": "stdout",
     "output_type": "stream",
     "text": [
      "Class 'Bacterial Leaf Spot': accuracy = 86.67%\n",
      "Class 'Downy Mildew': accuracy = 93.79%\n",
      "Class 'Healthy Leaves': accuracy = 99.47%\n",
      "Class 'Powdery Mildew': accuracy = 62.30%\n",
      "\n",
      "Classification Report (per-class):\n",
      "                     precision    recall  f1-score   support\n",
      "\n",
      "Bacterial Leaf Spot       0.72      0.87      0.79        15\n",
      "       Downy Mildew       0.93      0.94      0.93       145\n",
      "     Healthy Leaves       0.94      0.99      0.96       188\n",
      "     Powdery Mildew       0.86      0.62      0.72        61\n",
      "\n",
      "           accuracy                           0.91       409\n",
      "          macro avg       0.86      0.86      0.85       409\n",
      "       weighted avg       0.91      0.91      0.91       409\n",
      "\n",
      "Macro   Precision/Recall/F1: 0.862 / 0.856 / 0.852\n",
      "Micro   Precision/Recall/F1: 0.914 / 0.914 / 0.914\n",
      "Weighted Precision/Recall/F1: 0.913 / 0.914 / 0.910\n"
     ]
    },
    {
     "data": {
      "image/png": "[encoded data removed]",
      "text/plain": [
       "<Figure size 600x500 with 2 Axes>"
      ]
     },
     "metadata": {},
     "output_type": "display_data"
    },
    {
     "name": "stdout",
     "output_type": "stream",
     "text": [
      "🖼️ Saved 'confusion_matrix.png'\n"
     ]
    }
   ],
   "source": [
    "# Per-class Accuracy\n",
    "cm = confusion_matrix(test_targets_np, test_preds, labels=list(range(num_classes)))\n",
    "per_class_acc = cm.diagonal() / cm.sum(axis=1).clip(min=1)\n",
    "for i, cname in enumerate(class_names):\n",
    "    print(f\"Class '{cname}': accuracy = {per_class_acc[i]*100:.2f}%\")\n",
    "\n",
    "# Precision / Recall / F1 (macro, micro, weighted) + per-class table\n",
    "prec_macro, rec_macro, f1_macro, _ = precision_recall_fscore_support(\n",
    "    test_targets_np, test_preds, average='macro', zero_division=0)\n",
    "prec_micro, rec_micro, f1_micro, _ = precision_recall_fscore_support(\n",
    "    test_targets_np, test_preds, average='micro', zero_division=0)\n",
    "prec_weighted, rec_weighted, f1_weighted, _ = precision_recall_fscore_support(\n",
    "    test_targets_np, test_preds, average='weighted', zero_division=0)\n",
    "\n",
    "from sklearn.metrics import classification_report\n",
    "print(\"\\nClassification Report (per-class):\")\n",
    "print(classification_report(test_targets_np, test_preds, target_names=class_names, zero_division=0))\n",
    "\n",
    "print(f\"Macro   Precision/Recall/F1: {prec_macro:.3f} / {rec_macro:.3f} / {f1_macro:.3f}\")\n",
    "print(f\"Micro   Precision/Recall/F1: {prec_micro:.3f} / {rec_micro:.3f} / {f1_micro:.3f}\")\n",
    "print(f\"Weighted Precision/Recall/F1: {prec_weighted:.3f} / {rec_weighted:.3f} / {f1_weighted:.3f}\")\n",
    "\n",
    "\n",
    "\n",
    "\n",
    "# -----------------------\n",
    "# Confusion Matrix plot\n",
    "# -----------------------\n",
    "plt.figure(figsize=(6,5))\n",
    "plt.imshow(cm, interpolation='nearest', cmap='Blues')\n",
    "plt.title(\"Confusion Matrix\")\n",
    "plt.colorbar()\n",
    "tick_marks = np.arange(num_classes)\n",
    "plt.xticks(tick_marks, class_names, rotation=45, ha=\"right\")\n",
    "plt.yticks(tick_marks, class_names)\n",
    "thresh = cm.max() / 2.0\n",
    "for i, j in itertools.product(range(num_classes), range(num_classes)):\n",
    "    plt.text(j, i, cm[i, j], horizontalalignment=\"center\",\n",
    "             color=\"white\" if cm[i, j] > thresh else \"black\", fontsize=8)\n",
    "plt.ylabel('True label'); plt.xlabel('Predicted label')\n",
    "plt.tight_layout()\n",
    "plt.savefig(\"confusion_matrix.png\", dpi=300); plt.show()\n",
    "print(\"🖼️ Saved 'confusion_matrix.png'\")\n"
   ]
  },
  {
   "cell_type": "code",
   "execution_count": 16,
   "metadata": {
    "execution": {
     "iopub.execute_input": "2025-08-13T18:00:08.100020Z",
     "iopub.status.busy": "2025-08-13T18:00:08.099292Z",
     "iopub.status.idle": "2025-08-13T18:00:08.672363Z",
     "shell.execute_reply": "2025-08-13T18:00:08.671725Z",
     "shell.execute_reply.started": "2025-08-13T18:00:08.099995Z"
    },
    "trusted": true
   },
   "outputs": [
    {
     "data": {
      "image/png": "[encoded data removed]",
      "text/plain": [
       "<Figure size 700x600 with 1 Axes>"
      ]
     },
     "metadata": {},
     "output_type": "display_data"
    },
    {
     "name": "stdout",
     "output_type": "stream",
     "text": [
      "🖼️ Saved 'roc_auc_curves.png'\n"
     ]
    }
   ],
   "source": [
    "# -----------------------\n",
    "# ROC curves + AUC (One-vs-Rest)\n",
    "# -----------------------\n",
    "# Binarize labels for ROC/AUC\n",
    "y_true_bin = label_binarize(test_targets_np, classes=list(range(num_classes)))\n",
    "if y_true_bin.shape[1] == 1:\n",
    "    # In binary case, expand to 2 columns for ROC plotting\n",
    "    y_true_bin = np.hstack([1 - y_true_bin, y_true_bin])\n",
    "\n",
    "fpr = {}; tpr = {}; roc_auc = {}\n",
    "for i in range(num_classes):\n",
    "    fpr[i], tpr[i], _ = roc_curve(y_true_bin[:, i], test_probs[:, i])\n",
    "    roc_auc[i] = auc(fpr[i], tpr[i])\n",
    "\n",
    "# Micro-average\n",
    "fpr[\"micro\"], tpr[\"micro\"], _ = roc_curve(y_true_bin.ravel(), test_probs.ravel())\n",
    "roc_auc[\"micro\"] = auc(fpr[\"micro\"], tpr[\"micro\"])\n",
    "\n",
    "# Macro-average\n",
    "all_fpr = np.unique(np.concatenate([fpr[i] for i in range(num_classes)]))\n",
    "mean_tpr = np.zeros_like(all_fpr)\n",
    "for i in range(num_classes):\n",
    "    mean_tpr += np.interp(all_fpr, fpr[i], tpr[i])\n",
    "mean_tpr /= num_classes\n",
    "roc_auc[\"macro\"] = auc(all_fpr, mean_tpr)\n",
    "\n",
    "plt.figure(figsize=(7,6))\n",
    "plt.plot(fpr[\"micro\"], tpr[\"micro\"], label=f\"micro-average AUC = {roc_auc['micro']:.3f}\", linewidth=2)\n",
    "plt.plot(all_fpr, mean_tpr, label=f\"macro-average AUC = {roc_auc['macro']:.3f}\", linewidth=2)\n",
    "for i, cname in enumerate(class_names):\n",
    "    plt.plot(fpr[i], tpr[i], lw=1, label=f\"{cname} (AUC={roc_auc[i]:.3f})\")\n",
    "plt.plot([0,1], [0,1], 'k--', lw=1)\n",
    "plt.xlim([0.0, 1.0]); plt.ylim([0.0, 1.05])\n",
    "plt.xlabel('False Positive Rate'); plt.ylabel('True Positive Rate')\n",
    "plt.title('ROC Curves (One-vs-Rest)')\n",
    "plt.legend(fontsize=8, loc=\"lower right\", frameon=False)\n",
    "plt.tight_layout()\n",
    "plt.savefig(\"roc_auc_curves.png\", dpi=300); plt.show()\n",
    "print(\"🖼️ Saved 'roc_auc_curves.png'\")\n",
    "\n",
    "\n"
   ]
  }
 ],
 "metadata": {
  "kaggle": {
   "accelerator": "nvidiaTeslaT4",
   "dataSources": [
    {
     "datasetId": 8062910,
     "sourceId": 12754473,
     "sourceType": "datasetVersion"
    }
   ],
   "dockerImageVersionId": 31090,
   "isGpuEnabled": true,
   "isInternetEnabled": true,
   "language": "python",
   "sourceType": "notebook"
  },
  "kernelspec": {
   "display_name": "Python 3",
   "language": "python",
   "name": "python3"
  },
  "language_info": {
   "codemirror_mode": {
    "name": "ipython",
    "version": 3
   },
   "file_extension": ".py",
   "mimetype": "text/x-python",
   "name": "python",
   "nbconvert_exporter": "python",
   "pygments_lexer": "ipython3",
   "version": "3.11.13"
  }
 },
 "nbformat": 4,
 "nbformat_minor": 4
}
